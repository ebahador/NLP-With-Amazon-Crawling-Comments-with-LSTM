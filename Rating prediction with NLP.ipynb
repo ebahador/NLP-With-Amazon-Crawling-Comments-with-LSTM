{
 "cells": [
  {
   "cell_type": "markdown",
   "metadata": {
    "id": "-N0ln5r3qU1S"
   },
   "source": [
    "\n",
    "\n",
    "> # ***Review_Rating prediction with crawling live data from Amazon***\n",
    "\n",
    "Using:\n",
    "*   Gaussian Naive Bayes\n",
    "*   K-Nearest Neighbour\n",
    "*   Random Forest\n",
    "*   Support Vector Machine (Linear SVC)\n",
    "*   LSTM with PyTorch\n",
    "\n",
    "Written by:\n",
    "Amir Bahador Eizadkhah / eizadkhah.bit@gmail.com\n",
    "Amin Nazarian Saralang / aminnazarian1987@gmail.com\n",
    "\n",
    "\n",
    "\n",
    "\n",
    "\n",
    "\n"
   ]
  },
  {
   "cell_type": "markdown",
   "metadata": {
    "id": "NWZ-weV483sb"
   },
   "source": [
    "## **Importing Libraries**"
   ]
  },
  {
   "cell_type": "code",
   "execution_count": 1,
   "metadata": {
    "colab": {
     "base_uri": "https://localhost:8080/"
    },
    "executionInfo": {
     "elapsed": 9832,
     "status": "ok",
     "timestamp": 1649453770263,
     "user": {
      "displayName": "Amir Bahador Eizadkhah",
      "userId": "17996642984763851948"
     },
     "user_tz": 240
    },
    "id": "UKOpnw6itgdn",
    "outputId": "16c2cba2-a6d6-4d3c-e8e2-2ec3f4e20589"
   },
   "outputs": [
    {
     "name": "stdout",
     "output_type": "stream",
     "text": [
      "Collecting langdetect\n",
      "  Downloading langdetect-1.0.9.tar.gz (981 kB)\n",
      "\u001B[K     |████████████████████████████████| 981 kB 14.0 MB/s \n",
      "\u001B[?25hRequirement already satisfied: six in /usr/local/lib/python3.7/dist-packages (from langdetect) (1.15.0)\n",
      "Building wheels for collected packages: langdetect\n",
      "  Building wheel for langdetect (setup.py) ... \u001B[?25l\u001B[?25hdone\n",
      "  Created wheel for langdetect: filename=langdetect-1.0.9-py3-none-any.whl size=993242 sha256=f219d615d59362cb7e431467d6cf463af98d5c6b08429c5c7c065c2c2c4982a5\n",
      "  Stored in directory: /root/.cache/pip/wheels/c5/96/8a/f90c59ed25d75e50a8c10a1b1c2d4c402e4dacfa87f3aff36a\n",
      "Successfully built langdetect\n",
      "Installing collected packages: langdetect\n",
      "Successfully installed langdetect-1.0.9\n"
     ]
    }
   ],
   "source": [
    "pip install langdetect"
   ]
  },
  {
   "cell_type": "code",
   "execution_count": 2,
   "metadata": {
    "colab": {
     "base_uri": "https://localhost:8080/"
    },
    "executionInfo": {
     "elapsed": 9452,
     "status": "ok",
     "timestamp": 1649453779707,
     "user": {
      "displayName": "Amir Bahador Eizadkhah",
      "userId": "17996642984763851948"
     },
     "user_tz": 240
    },
    "id": "yg52-K_5leX1",
    "outputId": "cf54e68b-ef09-448b-d034-43d9d2079318"
   },
   "outputs": [
    {
     "name": "stdout",
     "output_type": "stream",
     "text": [
      "Collecting translators\n",
      "  Downloading translators-5.0.2-py3-none-any.whl (23 kB)\n",
      "Collecting lxml>=4.8.0\n",
      "  Downloading lxml-4.8.0-cp37-cp37m-manylinux_2_17_x86_64.manylinux2014_x86_64.manylinux_2_24_x86_64.whl (6.4 MB)\n",
      "\u001B[K     |████████████████████████████████| 6.4 MB 18.8 MB/s \n",
      "\u001B[?25hCollecting pathos>=0.2.8\n",
      "  Downloading pathos-0.2.8-py2.py3-none-any.whl (81 kB)\n",
      "\u001B[K     |████████████████████████████████| 81 kB 11.8 MB/s \n",
      "\u001B[?25hCollecting PyExecJS>=1.5.1\n",
      "  Downloading PyExecJS-1.5.1.tar.gz (13 kB)\n",
      "Collecting requests>=2.27.1\n",
      "  Downloading requests-2.27.1-py2.py3-none-any.whl (63 kB)\n",
      "\u001B[K     |████████████████████████████████| 63 kB 2.3 MB/s \n",
      "\u001B[?25hCollecting loguru>=0.6.0\n",
      "  Downloading loguru-0.6.0-py3-none-any.whl (58 kB)\n",
      "\u001B[K     |████████████████████████████████| 58 kB 7.4 MB/s \n",
      "\u001B[?25hCollecting pox>=0.3.0\n",
      "  Downloading pox-0.3.0-py2.py3-none-any.whl (30 kB)\n",
      "Collecting ppft>=1.6.6.4\n",
      "  Downloading ppft-1.6.6.4-py3-none-any.whl (65 kB)\n",
      "\u001B[K     |████████████████████████████████| 65 kB 1.8 MB/s \n",
      "\u001B[?25hRequirement already satisfied: multiprocess>=0.70.12 in /usr/local/lib/python3.7/dist-packages (from pathos>=0.2.8->translators) (0.70.12.2)\n",
      "Requirement already satisfied: dill>=0.3.4 in /usr/local/lib/python3.7/dist-packages (from pathos>=0.2.8->translators) (0.3.4)\n",
      "Requirement already satisfied: six>=1.7.3 in /usr/local/lib/python3.7/dist-packages (from ppft>=1.6.6.4->pathos>=0.2.8->translators) (1.15.0)\n",
      "Requirement already satisfied: idna<4,>=2.5 in /usr/local/lib/python3.7/dist-packages (from requests>=2.27.1->translators) (2.10)\n",
      "Requirement already satisfied: urllib3<1.27,>=1.21.1 in /usr/local/lib/python3.7/dist-packages (from requests>=2.27.1->translators) (1.24.3)\n",
      "Requirement already satisfied: charset-normalizer~=2.0.0 in /usr/local/lib/python3.7/dist-packages (from requests>=2.27.1->translators) (2.0.12)\n",
      "Requirement already satisfied: certifi>=2017.4.17 in /usr/local/lib/python3.7/dist-packages (from requests>=2.27.1->translators) (2021.10.8)\n",
      "Building wheels for collected packages: PyExecJS\n",
      "  Building wheel for PyExecJS (setup.py) ... \u001B[?25l\u001B[?25hdone\n",
      "  Created wheel for PyExecJS: filename=PyExecJS-1.5.1-py3-none-any.whl size=14598 sha256=86387b4fe26ad12ea238a839dfbc9ceb9d93dfa63c51e979f05e449ae8622fc8\n",
      "  Stored in directory: /root/.cache/pip/wheels/9a/ee/03/da5c0b4a8c13362beeb844eb913bbe58a89bde1de2b9157007\n",
      "Successfully built PyExecJS\n",
      "Installing collected packages: ppft, pox, requests, PyExecJS, pathos, lxml, loguru, translators\n",
      "  Attempting uninstall: requests\n",
      "    Found existing installation: requests 2.23.0\n",
      "    Uninstalling requests-2.23.0:\n",
      "      Successfully uninstalled requests-2.23.0\n",
      "  Attempting uninstall: lxml\n",
      "    Found existing installation: lxml 4.2.6\n",
      "    Uninstalling lxml-4.2.6:\n",
      "      Successfully uninstalled lxml-4.2.6\n",
      "\u001B[31mERROR: pip's dependency resolver does not currently take into account all the packages that are installed. This behaviour is the source of the following dependency conflicts.\n",
      "google-colab 1.0.0 requires requests~=2.23.0, but you have requests 2.27.1 which is incompatible.\n",
      "datascience 0.10.6 requires folium==0.2.1, but you have folium 0.8.3 which is incompatible.\u001B[0m\n",
      "Successfully installed PyExecJS-1.5.1 loguru-0.6.0 lxml-4.8.0 pathos-0.2.8 pox-0.3.0 ppft-1.6.6.4 requests-2.27.1 translators-5.0.2\n"
     ]
    }
   ],
   "source": [
    "pip install translators --upgrade"
   ]
  },
  {
   "cell_type": "code",
   "execution_count": 3,
   "metadata": {
    "colab": {
     "base_uri": "https://localhost:8080/"
    },
    "executionInfo": {
     "elapsed": 3833,
     "status": "ok",
     "timestamp": 1649453783534,
     "user": {
      "displayName": "Amir Bahador Eizadkhah",
      "userId": "17996642984763851948"
     },
     "user_tz": 240
    },
    "id": "6hBn-q_NleKj",
    "outputId": "42f5ed8e-6f81-41ab-a1d1-67dfe198e5bb"
   },
   "outputs": [
    {
     "name": "stdout",
     "output_type": "stream",
     "text": [
      "Collecting watermark\n",
      "  Downloading watermark-2.3.0-py2.py3-none-any.whl (7.2 kB)\n",
      "Requirement already satisfied: ipython in /usr/local/lib/python3.7/dist-packages (from watermark) (5.5.0)\n",
      "Collecting importlib-metadata<3.0\n",
      "  Downloading importlib_metadata-2.1.3-py2.py3-none-any.whl (10 kB)\n",
      "Requirement already satisfied: zipp>=0.5 in /usr/local/lib/python3.7/dist-packages (from importlib-metadata<3.0->watermark) (3.7.0)\n",
      "Requirement already satisfied: pexpect in /usr/local/lib/python3.7/dist-packages (from ipython->watermark) (4.8.0)\n",
      "Requirement already satisfied: pickleshare in /usr/local/lib/python3.7/dist-packages (from ipython->watermark) (0.7.5)\n",
      "Requirement already satisfied: traitlets>=4.2 in /usr/local/lib/python3.7/dist-packages (from ipython->watermark) (5.1.1)\n",
      "Requirement already satisfied: pygments in /usr/local/lib/python3.7/dist-packages (from ipython->watermark) (2.6.1)\n",
      "Requirement already satisfied: setuptools>=18.5 in /usr/local/lib/python3.7/dist-packages (from ipython->watermark) (57.4.0)\n",
      "Requirement already satisfied: prompt-toolkit<2.0.0,>=1.0.4 in /usr/local/lib/python3.7/dist-packages (from ipython->watermark) (1.0.18)\n",
      "Requirement already satisfied: decorator in /usr/local/lib/python3.7/dist-packages (from ipython->watermark) (4.4.2)\n",
      "Requirement already satisfied: simplegeneric>0.8 in /usr/local/lib/python3.7/dist-packages (from ipython->watermark) (0.8.1)\n",
      "Requirement already satisfied: wcwidth in /usr/local/lib/python3.7/dist-packages (from prompt-toolkit<2.0.0,>=1.0.4->ipython->watermark) (0.2.5)\n",
      "Requirement already satisfied: six>=1.9.0 in /usr/local/lib/python3.7/dist-packages (from prompt-toolkit<2.0.0,>=1.0.4->ipython->watermark) (1.15.0)\n",
      "Requirement already satisfied: ptyprocess>=0.5 in /usr/local/lib/python3.7/dist-packages (from pexpect->ipython->watermark) (0.7.0)\n",
      "Installing collected packages: importlib-metadata, watermark\n",
      "  Attempting uninstall: importlib-metadata\n",
      "    Found existing installation: importlib-metadata 4.11.3\n",
      "    Uninstalling importlib-metadata-4.11.3:\n",
      "      Successfully uninstalled importlib-metadata-4.11.3\n",
      "\u001B[31mERROR: pip's dependency resolver does not currently take into account all the packages that are installed. This behaviour is the source of the following dependency conflicts.\n",
      "markdown 3.3.6 requires importlib-metadata>=4.4; python_version < \"3.10\", but you have importlib-metadata 2.1.3 which is incompatible.\u001B[0m\n",
      "Successfully installed importlib-metadata-2.1.3 watermark-2.3.0\n"
     ]
    }
   ],
   "source": [
    "pip install watermark"
   ]
  },
  {
   "cell_type": "code",
   "execution_count": 1,
   "metadata": {
    "colab": {
     "base_uri": "https://localhost:8080/"
    },
    "executionInfo": {
     "elapsed": 2547,
     "status": "ok",
     "timestamp": 1649461963835,
     "user": {
      "displayName": "Amir Bahador Eizadkhah",
      "userId": "17996642984763851948"
     },
     "user_tz": 240
    },
    "id": "APRzkrbx8Ee0",
    "outputId": "850bb8c5-dae9-4005-bb0a-df46b0e15b57"
   },
   "outputs": [
    {
     "name": "stderr",
     "output_type": "stream",
     "text": [
      "Using Netherlands server backend.\n"
     ]
    },
    {
     "name": "stdout",
     "output_type": "stream",
     "text": [
      "[nltk_data] Downloading package stopwords to /root/nltk_data...\n",
      "[nltk_data]   Package stopwords is already up-to-date!\n",
      "[nltk_data] Downloading package wordnet to /root/nltk_data...\n",
      "[nltk_data]   Package wordnet is already up-to-date!\n",
      "[nltk_data] Downloading package omw-1.4 to /root/nltk_data...\n",
      "[nltk_data]   Package omw-1.4 is already up-to-date!\n"
     ]
    },
    {
     "data": {
      "text/plain": [
       "True"
      ]
     },
     "execution_count": 1,
     "metadata": {},
     "output_type": "execute_result"
    }
   ],
   "source": [
    "import requests\n",
    "import re\n",
    "import string\n",
    "import time\n",
    "import random\n",
    "import translators as ts\n",
    "from langdetect import detect\n",
    "from tqdm.notebook import tqdm\n",
    "\n",
    "import numpy as np\n",
    "import pandas as pd\n",
    "import matplotlib.pyplot as plt\n",
    "\n",
    "from bs4 import BeautifulSoup\n",
    "\n",
    "import seaborn as sns\n",
    "from imblearn.over_sampling import SMOTE\n",
    "\n",
    "import nltk\n",
    "from nltk.corpus import stopwords\n",
    "from nltk.stem import WordNetLemmatizer\n",
    "from nltk.stem import PorterStemmer\n",
    "\n",
    "from wordcloud import WordCloud\n",
    "\n",
    "from sklearn.svm import LinearSVC\n",
    "from sklearn.naive_bayes import GaussianNB\n",
    "from sklearn.neighbors import KNeighborsClassifier\n",
    "from sklearn.ensemble import RandomForestClassifier\n",
    "from sklearn.metrics import confusion_matrix, classification_report, accuracy_score, mean_squared_error\n",
    "from sklearn.model_selection import train_test_split\n",
    "from sklearn.feature_extraction.text import TfidfVectorizer\n",
    "\n",
    "import torch\n",
    "import torchtext\n",
    "from torch.nn import CrossEntropyLoss\n",
    "\n",
    "from google.colab import drive\n",
    "\n",
    "nltk.download('stopwords')\n",
    "nltk.download('wordnet')\n",
    "nltk.download('omw-1.4')"
   ]
  },
  {
   "cell_type": "markdown",
   "metadata": {
    "id": "x-4OouA0rO79"
   },
   "source": [
    "\n",
    "*   Mounting Google Drive and directory specifications\n"
   ]
  },
  {
   "cell_type": "code",
   "execution_count": 2,
   "metadata": {
    "colab": {
     "base_uri": "https://localhost:8080/"
    },
    "executionInfo": {
     "elapsed": 1089,
     "status": "ok",
     "timestamp": 1649461965451,
     "user": {
      "displayName": "Amir Bahador Eizadkhah",
      "userId": "17996642984763851948"
     },
     "user_tz": 240
    },
    "id": "7lTE-24vrj4N",
    "outputId": "a00665c3-865e-4428-f5a6-d37458eea469"
   },
   "outputs": [
    {
     "name": "stdout",
     "output_type": "stream",
     "text": [
      "Drive already mounted at /content/drive; to attempt to forcibly remount, call drive.mount(\"/content/drive\", force_remount=True).\n"
     ]
    }
   ],
   "source": [
    "drive.mount('/content/drive')\n",
    "dataset_dir = '/content/drive/MyDrive/Colab Notebooks/PyCode/Dataset/'"
   ]
  },
  {
   "cell_type": "code",
   "execution_count": 3,
   "metadata": {
    "executionInfo": {
     "elapsed": 233,
     "status": "ok",
     "timestamp": 1649461966995,
     "user": {
      "displayName": "Amir Bahador Eizadkhah",
      "userId": "17996642984763851948"
     },
     "user_tz": 240
    },
    "id": "b4WD40kdRSqL"
   },
   "outputs": [],
   "source": [
    "def plot_proporsion(dataset, label):\n",
    "    plt.figure(figsize=(6,6))\n",
    "    plt.title('Percentage of category')\n",
    "    ax = sns.countplot(y = label, data = dataset)\n",
    "    total = len(dataset)\n",
    "    for p in ax.patches:\n",
    "            percentage = '{:.1f}%'.format(100 * p.get_width() / total)\n",
    "            x = p.get_x() + p.get_width() + 0.02\n",
    "            y = p.get_y() + p.get_height()/2\n",
    "            ax.annotate(percentage, (x, y))\n",
    "\n",
    "def plot_word_cloud(dataset, label):\n",
    "    allw = ''\n",
    "    for word in dataset[label]:\n",
    "        allw += word\n",
    "\n",
    "    wordcloud = WordCloud(width = 1000, height = 1000,\n",
    "                          background_color ='white',\n",
    "                          min_font_size = 10).generate(allw)\n",
    "    plt.figure(figsize = (8, 8), facecolor = None)\n",
    "    plt.imshow(wordcloud)\n",
    "    plt.axis(\"off\")\n",
    "    plt.tight_layout(pad = 0)\n",
    "    plt.show()"
   ]
  },
  {
   "cell_type": "markdown",
   "metadata": {
    "id": "uSoealBfyDRS"
   },
   "source": [
    "## **Importing Dataset**"
   ]
  },
  {
   "cell_type": "code",
   "execution_count": 4,
   "metadata": {
    "executionInfo": {
     "elapsed": 10767,
     "status": "ok",
     "timestamp": 1649461983527,
     "user": {
      "displayName": "Amir Bahador Eizadkhah",
      "userId": "17996642984763851948"
     },
     "user_tz": 240
    },
    "id": "5B5TIzMm9TOX"
   },
   "outputs": [],
   "source": [
    "df = pd.read_csv(dataset_dir + 'Reviews.csv')\n",
    "ds = df[['TEXT', 'SCORE']].copy()\n",
    "\n",
    "ds.columns = ['TEXT', 'SCORE']\n",
    "ds.to_csv(dataset_dir + 'Reviews_Modified.csv', index =None)"
   ]
  },
  {
   "cell_type": "code",
   "execution_count": 5,
   "metadata": {
    "colab": {
     "base_uri": "https://localhost:8080/",
     "height": 277
    },
    "executionInfo": {
     "elapsed": 2847,
     "status": "ok",
     "timestamp": 1649462040822,
     "user": {
      "displayName": "Amir Bahador Eizadkhah",
      "userId": "17996642984763851948"
     },
     "user_tz": 240
    },
    "id": "MLnSUsXPAGGx",
    "outputId": "a2515721-609a-46b3-f9b1-7ddd50455fa7"
   },
   "outputs": [
    {
     "name": "stdout",
     "output_type": "stream",
     "text": [
      "Dataset shape: (568454, 2)\n",
      "Maximum rating scale of overall rating 5\n",
      "Minimum rating scale of overall rating 1\n",
      "Class Labels: {1, 2, 3, 4, 5}\n"
     ]
    },
    {
     "data": {
      "text/html": [
       "\n",
       "  <div id=\"df-f6f730ff-dd13-4191-9a2d-9dd598ea0edb\">\n",
       "    <div class=\"colab-df-container\">\n",
       "      <div>\n",
       "<style scoped>\n",
       "    .dataframe tbody tr th:only-of-type {\n",
       "        vertical-align: middle;\n",
       "    }\n",
       "\n",
       "    .dataframe tbody tr th {\n",
       "        vertical-align: top;\n",
       "    }\n",
       "\n",
       "    .dataframe thead th {\n",
       "        text-align: right;\n",
       "    }\n",
       "</style>\n",
       "<table border=\"1\" class=\"dataframe\">\n",
       "  <thead>\n",
       "    <tr style=\"text-align: right;\">\n",
       "      <th></th>\n",
       "      <th>TEXT</th>\n",
       "      <th>SCORE</th>\n",
       "    </tr>\n",
       "  </thead>\n",
       "  <tbody>\n",
       "    <tr>\n",
       "      <th>0</th>\n",
       "      <td>I have bought several of the Vitality canned d...</td>\n",
       "      <td>5</td>\n",
       "    </tr>\n",
       "    <tr>\n",
       "      <th>1</th>\n",
       "      <td>Product arrived labeled as Jumbo Salted Peanut...</td>\n",
       "      <td>1</td>\n",
       "    </tr>\n",
       "    <tr>\n",
       "      <th>2</th>\n",
       "      <td>This is a confection that has been around a fe...</td>\n",
       "      <td>4</td>\n",
       "    </tr>\n",
       "    <tr>\n",
       "      <th>3</th>\n",
       "      <td>If you are looking for the secret ingredient i...</td>\n",
       "      <td>2</td>\n",
       "    </tr>\n",
       "    <tr>\n",
       "      <th>4</th>\n",
       "      <td>Great taffy at a great price.  There was a wid...</td>\n",
       "      <td>5</td>\n",
       "    </tr>\n",
       "  </tbody>\n",
       "</table>\n",
       "</div>\n",
       "      <button class=\"colab-df-convert\" onclick=\"convertToInteractive('df-f6f730ff-dd13-4191-9a2d-9dd598ea0edb')\"\n",
       "              title=\"Convert this dataframe to an interactive table.\"\n",
       "              style=\"display:none;\">\n",
       "        \n",
       "  <svg xmlns=\"http://www.w3.org/2000/svg\" height=\"24px\"viewBox=\"0 0 24 24\"\n",
       "       width=\"24px\">\n",
       "    <path d=\"M0 0h24v24H0V0z\" fill=\"none\"/>\n",
       "    <path d=\"M18.56 5.44l.94 2.06.94-2.06 2.06-.94-2.06-.94-.94-2.06-.94 2.06-2.06.94zm-11 1L8.5 8.5l.94-2.06 2.06-.94-2.06-.94L8.5 2.5l-.94 2.06-2.06.94zm10 10l.94 2.06.94-2.06 2.06-.94-2.06-.94-.94-2.06-.94 2.06-2.06.94z\"/><path d=\"M17.41 7.96l-1.37-1.37c-.4-.4-.92-.59-1.43-.59-.52 0-1.04.2-1.43.59L10.3 9.45l-7.72 7.72c-.78.78-.78 2.05 0 2.83L4 21.41c.39.39.9.59 1.41.59.51 0 1.02-.2 1.41-.59l7.78-7.78 2.81-2.81c.8-.78.8-2.07 0-2.86zM5.41 20L4 18.59l7.72-7.72 1.47 1.35L5.41 20z\"/>\n",
       "  </svg>\n",
       "      </button>\n",
       "      \n",
       "  <style>\n",
       "    .colab-df-container {\n",
       "      display:flex;\n",
       "      flex-wrap:wrap;\n",
       "      gap: 12px;\n",
       "    }\n",
       "\n",
       "    .colab-df-convert {\n",
       "      background-color: #E8F0FE;\n",
       "      border: none;\n",
       "      border-radius: 50%;\n",
       "      cursor: pointer;\n",
       "      display: none;\n",
       "      fill: #1967D2;\n",
       "      height: 32px;\n",
       "      padding: 0 0 0 0;\n",
       "      width: 32px;\n",
       "    }\n",
       "\n",
       "    .colab-df-convert:hover {\n",
       "      background-color: #E2EBFA;\n",
       "      box-shadow: 0px 1px 2px rgba(60, 64, 67, 0.3), 0px 1px 3px 1px rgba(60, 64, 67, 0.15);\n",
       "      fill: #174EA6;\n",
       "    }\n",
       "\n",
       "    [theme=dark] .colab-df-convert {\n",
       "      background-color: #3B4455;\n",
       "      fill: #D2E3FC;\n",
       "    }\n",
       "\n",
       "    [theme=dark] .colab-df-convert:hover {\n",
       "      background-color: #434B5C;\n",
       "      box-shadow: 0px 1px 3px 1px rgba(0, 0, 0, 0.15);\n",
       "      filter: drop-shadow(0px 1px 2px rgba(0, 0, 0, 0.3));\n",
       "      fill: #FFFFFF;\n",
       "    }\n",
       "  </style>\n",
       "\n",
       "      <script>\n",
       "        const buttonEl =\n",
       "          document.querySelector('#df-f6f730ff-dd13-4191-9a2d-9dd598ea0edb button.colab-df-convert');\n",
       "        buttonEl.style.display =\n",
       "          google.colab.kernel.accessAllowed ? 'block' : 'none';\n",
       "\n",
       "        async function convertToInteractive(key) {\n",
       "          const element = document.querySelector('#df-f6f730ff-dd13-4191-9a2d-9dd598ea0edb');\n",
       "          const dataTable =\n",
       "            await google.colab.kernel.invokeFunction('convertToInteractive',\n",
       "                                                     [key], {});\n",
       "          if (!dataTable) return;\n",
       "\n",
       "          const docLinkHtml = 'Like what you see? Visit the ' +\n",
       "            '<a target=\"_blank\" href=https://colab.research.google.com/notebooks/data_table.ipynb>data table notebook</a>'\n",
       "            + ' to learn more about interactive tables.';\n",
       "          element.innerHTML = '';\n",
       "          dataTable['output_type'] = 'display_data';\n",
       "          await google.colab.output.renderOutput(dataTable, element);\n",
       "          const docLink = document.createElement('div');\n",
       "          docLink.innerHTML = docLinkHtml;\n",
       "          element.appendChild(docLink);\n",
       "        }\n",
       "      </script>\n",
       "    </div>\n",
       "  </div>\n",
       "  "
      ],
      "text/plain": [
       "                                                TEXT  SCORE\n",
       "0  I have bought several of the Vitality canned d...      5\n",
       "1  Product arrived labeled as Jumbo Salted Peanut...      1\n",
       "2  This is a confection that has been around a fe...      4\n",
       "3  If you are looking for the secret ingredient i...      2\n",
       "4  Great taffy at a great price.  There was a wid...      5"
      ]
     },
     "execution_count": 5,
     "metadata": {},
     "output_type": "execute_result"
    }
   ],
   "source": [
    "ds = pd.read_csv(dataset_dir + 'Reviews_Modified.csv')\n",
    "ds = ds.dropna()\n",
    "\n",
    "print('Dataset shape:', np.shape(ds))\n",
    "print('Maximum rating scale of overall rating {}'.format(ds.SCORE.max()))\n",
    "print('Minimum rating scale of overall rating {}'.format(ds.SCORE.min()))\n",
    "print('Class Labels:', set(sorted(ds.SCORE)))\n",
    "\n",
    "ds.head()"
   ]
  },
  {
   "cell_type": "markdown",
   "metadata": {
    "id": "MZA--4ihoTUK"
   },
   "source": [
    "## **Creawing**"
   ]
  },
  {
   "cell_type": "code",
   "execution_count": 6,
   "metadata": {
    "executionInfo": {
     "elapsed": 250,
     "status": "ok",
     "timestamp": 1649462051043,
     "user": {
      "displayName": "Amir Bahador Eizadkhah",
      "userId": "17996642984763851948"
     },
     "user_tz": 240
    },
    "id": "lyVBV3d1wfpP"
   },
   "outputs": [],
   "source": [
    "# Getting comments and reviews regarding the specific product\n",
    "\n",
    "# https://www.amazon.co.uk/product-reviews/B07HN58Y53/ref=cm_cr_arp_d_paging_btm_next_1?ie=UTF8&reviewerType=all_reviews&pageNumber=0\n",
    "# Cat Food\n",
    "\n",
    "HEADERS = ({'User-Agent':\n",
    "                'Mozilla/5.0 (Windows NT 10.0; Win64; x64) \\\n",
    "                AppleWebKit/537.36 (KHTML, like Gecko) \\\n",
    "                Chrome/100.0.4896.75 Safari/537.36',\n",
    "            'Accept-Language': 'en-US, en;q=0.5'})\n",
    "\n",
    "\n",
    "def getReviews(session, link):\n",
    "    response = session.get(link, headers=HEADERS)\n",
    "    soup = BeautifulSoup(response.text, 'lxml')\n",
    "    return soup.find_all('span', {'data-hook': 'review-body'})\n",
    "\n",
    "\n",
    "def getRate(session, link):\n",
    "    response = session.get(link, headers=HEADERS)\n",
    "    soup = BeautifulSoup(response.text, 'lxml')\n",
    "    return soup.find_all('i', {'data-hook': 'review-star-rating'})"
   ]
  },
  {
   "cell_type": "code",
   "execution_count": 7,
   "metadata": {
    "colab": {
     "base_uri": "https://localhost:8080/"
    },
    "executionInfo": {
     "elapsed": 217350,
     "status": "ok",
     "timestamp": 1649462271760,
     "user": {
      "displayName": "Amir Bahador Eizadkhah",
      "userId": "17996642984763851948"
     },
     "user_tz": 240
    },
    "id": "LOAWgmr48aOr",
    "outputId": "c9976d6c-6068-4fe9-a934-0ee1df325582"
   },
   "outputs": [
    {
     "name": "stdout",
     "output_type": "stream",
     "text": [
      "Please put your Amazon link here: https://www.amazon.co.uk/product-reviews/B07HN58Y53/ref=cm_cr_arp_d_paging_btm_next_1?ie=UTF8&reviewerType=all_reviews&pageNumber=0\n",
      "                                                   TEXT  SCORE\n",
      "0     let me start with the negative people with neg...    5.0\n",
      "1     ortunately our cat won't so much as lick this ...    2.0\n",
      "2     cat isn’t fussy, she once ate some rancid praw...    1.0\n",
      "3     sked my cats why they would not  eat it,if loo...    1.0\n",
      "4     ave an older cat (17+) who has gotten very pic...    4.0\n",
      "...                                                 ...    ...\n",
      "2363  sked my cats why they would not  eat it,if loo...    5.0\n",
      "2364  ave an older cat (17+) who has gotten very pic...    3.0\n",
      "2365  ently we have had to watch our spending a bit ...    4.0\n",
      "2366  eally wanted my twin cats to like these. But t...    1.0\n",
      "2367  ought this because despite the harsh reviews t...    2.0\n",
      "\n",
      "[2368 rows x 2 columns]\n",
      "Total text cleaning time: 3.62 min\n"
     ]
    }
   ],
   "source": [
    "start_time = time.time()\n",
    "\n",
    "X_tst = []\n",
    "y_tst = []\n",
    "\n",
    "FLAG = True\n",
    "checking = 'https://www.amazon.'\n",
    "while FLAG:\n",
    "    link = input('Please put your Amazon link here: ')\n",
    "    if checking in link:\n",
    "        FLAG = False\n",
    "    else:\n",
    "        print('Your website either is not Amazon or has not observed \"HTTPS\" legislation.')\n",
    "with requests.Session() as session:\n",
    "    for i in range(400):\n",
    "        for rates in getRate(session, link + str(i)):\n",
    "            y_tst.append(f'{rates.text}\\n'[0:3])\n",
    "        for reviews in getReviews(session, link + str(i)):\n",
    "            X_tst.append(f'{reviews.text}\\n\\n'[4:])\n",
    "\n",
    "X_tst = np.asarray(X_tst)\n",
    "y_tst = np.float64(np.asarray(y_tst))\n",
    "\n",
    "data = {'TEXT': X_tst, 'SCORE': y_tst}\n",
    "\n",
    "test_set = pd.DataFrame.dropna(pd.DataFrame(dict([(k, pd.Series(v)) for k, v in data.items()])))\n",
    "print(test_set)\n",
    "print(f'Total text cleaning time: {(time.time() - start_time)/60:.2f} min')"
   ]
  },
  {
   "cell_type": "markdown",
   "metadata": {
    "id": "p6HDYdl4ydYL"
   },
   "source": [
    "### Proportion division"
   ]
  },
  {
   "cell_type": "code",
   "execution_count": 8,
   "metadata": {
    "colab": {
     "base_uri": "https://localhost:8080/"
    },
    "executionInfo": {
     "elapsed": 16,
     "status": "ok",
     "timestamp": 1649462271761,
     "user": {
      "displayName": "Amir Bahador Eizadkhah",
      "userId": "17996642984763851948"
     },
     "user_tz": 240
    },
    "id": "ooFhGm7Z-po4",
    "outputId": "1fd36e4b-b35e-4131-813f-e1228a53e449"
   },
   "outputs": [
    {
     "name": "stdout",
     "output_type": "stream",
     "text": [
      "Dataset shape before crawling from Amazon: (9472, 2)\n",
      "Dataset shape after crawling from Amazon: (11840, 2)\n"
     ]
    }
   ],
   "source": [
    "train_sample = np.round((len(test_set) * 0.8) / 0.2)\n",
    "dataset = ds.sample(frac=1).reset_index(drop=True)\n",
    "dataset = dataset.iloc[:int(train_sample)]\n",
    "print('Dataset shape before crawling from Amazon:', np.shape(dataset))\n",
    "dataset = dataset.append(test_set, ignore_index=True)\n",
    "print('Dataset shape after crawling from Amazon:', np.shape(dataset))\n",
    "\n",
    "plot_proporsion(dataset, ['score'])"
   ]
  },
  {
   "cell_type": "markdown",
   "metadata": {
    "id": "HjllSWJU9UVM"
   },
   "source": [
    "## **Data preprocessing**"
   ]
  },
  {
   "cell_type": "markdown",
   "metadata": {
    "id": "OJoTsrbFywv1"
   },
   "source": [
    "### Data Cleaning"
   ]
  },
  {
   "cell_type": "code",
   "execution_count": 9,
   "metadata": {
    "executionInfo": {
     "elapsed": 266,
     "status": "ok",
     "timestamp": 1649462272013,
     "user": {
      "displayName": "Amir Bahador Eizadkhah",
      "userId": "17996642984763851948"
     },
     "user_tz": 240
    },
    "id": "Z7s7WVShDF2M"
   },
   "outputs": [],
   "source": [
    "def clean(text):\n",
    "    \n",
    "    # converting the all the text into lowercase\n",
    "    text = str(text).lower()\n",
    "    \n",
    "    emoji_pattern = re.compile(\"[\"\n",
    "            u\"\\U0001F600-\\U0001F64F\"  # emoticons\n",
    "            u\"\\U0001F300-\\U0001F5FF\"  # symbols & pictographs\n",
    "            u\"\\U0001F680-\\U0001F6FF\"  # transport & map symbols\n",
    "            u\"\\U0001F1E0-\\U0001F1FF\"  # flags (iOS)\n",
    "                              \"]+\", flags=re.UNICODE)\n",
    "    text = emoji_pattern.sub(r'', text)\n",
    "\n",
    "    if detect(text=text) != 'en':\n",
    "        if len(text.split()) < 750:\n",
    "            text = ts.google(text , to_language = 'en')\n",
    "            text = re.sub('\\[.*?\\]', '', text)\n",
    "            text = re.sub('https?://\\S+|www\\.\\S+', '', text)\n",
    "            text = re.sub('<.*?>+', '', text)\n",
    "            text = re.sub('[%s]' % re.escape(string.punctuation), '', text)\n",
    "            text = re.sub('\\n', '', text)\n",
    "            text = re.sub('\\w*\\d\\w*', '', text)\n",
    "        else:\n",
    "            text = 'Perfect, I love it.'\n",
    "    else:\n",
    "        text = re.sub('\\[.*?\\]', '', text)\n",
    "        text = re.sub('https?://\\S+|www\\.\\S+', '', text)\n",
    "        text = re.sub('<.*?>+', '', text)\n",
    "        text = re.sub('[%s]' % re.escape(string.punctuation), '', text)\n",
    "        text = re.sub('\\n', '', text)\n",
    "        text = re.sub('\\w*\\d\\w*', '', text)\n",
    "\n",
    "    return text"
   ]
  },
  {
   "cell_type": "code",
   "execution_count": 10,
   "metadata": {
    "colab": {
     "base_uri": "https://localhost:8080/"
    },
    "executionInfo": {
     "elapsed": 627891,
     "status": "ok",
     "timestamp": 1649462899902,
     "user": {
      "displayName": "Amir Bahador Eizadkhah",
      "userId": "17996642984763851948"
     },
     "user_tz": 240
    },
    "id": "N0adlm5eDF2P",
    "outputId": "e825d2a6-77e7-476d-e564-83b6dd727d4e"
   },
   "outputs": [
    {
     "name": "stdout",
     "output_type": "stream",
     "text": [
      "Total text cleaning time: 10.47 min\n"
     ]
    }
   ],
   "source": [
    "lemmatizer = WordNetLemmatizer()\n",
    "ps = PorterStemmer()\n",
    "start_time = time.time()\n",
    "\n",
    "dataset['TEXT'] = dataset.TEXT.apply(lambda x: clean(x))\n",
    "dataset['TEXT'] = dataset.TEXT.apply(\n",
    "    lambda x: ' '.join([word for word in x.split() if word not in stopwords.words('english')]))\n",
    "dataset['TEXT'] = dataset.TEXT.apply(\n",
    "    lambda x: ' '.join([lemmatizer.lemmatize(word) for word in x.split()]))\n",
    "dataset['TEXT']= dataset.TEXT.apply(\n",
    "    lambda x: ' '.join([ps.stem(word) for word in x.split()]))\n",
    "\n",
    "dataset.columns = ['TEXT', 'SCORE']\n",
    "dataset.to_csv(dataset_dir + 'Reviews_Modified.csv', index=None)\n",
    "print(f'Total text cleaning time: {(time.time() - start_time)/60:.2f} min')"
   ]
  },
  {
   "cell_type": "code",
   "execution_count": 11,
   "metadata": {
    "colab": {
     "base_uri": "https://localhost:8080/",
     "height": 224
    },
    "executionInfo": {
     "elapsed": 10,
     "status": "ok",
     "timestamp": 1649462899902,
     "user": {
      "displayName": "Amir Bahador Eizadkhah",
      "userId": "17996642984763851948"
     },
     "user_tz": 240
    },
    "id": "tDbkLiTuNkP4",
    "outputId": "b9594dbd-c31d-4a28-dc26-5880d865c99e"
   },
   "outputs": [
    {
     "name": "stdout",
     "output_type": "stream",
     "text": [
      "(11840, 2)\n"
     ]
    },
    {
     "data": {
      "text/html": [
       "\n",
       "  <div id=\"df-93348875-1ae6-4896-9f9a-46a0f01035ef\">\n",
       "    <div class=\"colab-df-container\">\n",
       "      <div>\n",
       "<style scoped>\n",
       "    .dataframe tbody tr th:only-of-type {\n",
       "        vertical-align: middle;\n",
       "    }\n",
       "\n",
       "    .dataframe tbody tr th {\n",
       "        vertical-align: top;\n",
       "    }\n",
       "\n",
       "    .dataframe thead th {\n",
       "        text-align: right;\n",
       "    }\n",
       "</style>\n",
       "<table border=\"1\" class=\"dataframe\">\n",
       "  <thead>\n",
       "    <tr style=\"text-align: right;\">\n",
       "      <th></th>\n",
       "      <th>TEXT</th>\n",
       "      <th>SCORE</th>\n",
       "    </tr>\n",
       "  </thead>\n",
       "  <tbody>\n",
       "    <tr>\n",
       "      <th>0</th>\n",
       "      <td>cooki essenti tasteless eat one consist weird ...</td>\n",
       "      <td>2.0</td>\n",
       "    </tr>\n",
       "    <tr>\n",
       "      <th>1</th>\n",
       "      <td>love tea good immun system help acheiv clear c...</td>\n",
       "      <td>5.0</td>\n",
       "    </tr>\n",
       "    <tr>\n",
       "      <th>2</th>\n",
       "      <td>famili adopt raw food diet last year one thing...</td>\n",
       "      <td>5.0</td>\n",
       "    </tr>\n",
       "    <tr>\n",
       "      <th>3</th>\n",
       "      <td>give tri wont want go back store brand fresh s...</td>\n",
       "      <td>5.0</td>\n",
       "    </tr>\n",
       "    <tr>\n",
       "      <th>4</th>\n",
       "      <td>twist fruit bill healthier altern snack target...</td>\n",
       "      <td>4.0</td>\n",
       "    </tr>\n",
       "  </tbody>\n",
       "</table>\n",
       "</div>\n",
       "      <button class=\"colab-df-convert\" onclick=\"convertToInteractive('df-93348875-1ae6-4896-9f9a-46a0f01035ef')\"\n",
       "              title=\"Convert this dataframe to an interactive table.\"\n",
       "              style=\"display:none;\">\n",
       "        \n",
       "  <svg xmlns=\"http://www.w3.org/2000/svg\" height=\"24px\"viewBox=\"0 0 24 24\"\n",
       "       width=\"24px\">\n",
       "    <path d=\"M0 0h24v24H0V0z\" fill=\"none\"/>\n",
       "    <path d=\"M18.56 5.44l.94 2.06.94-2.06 2.06-.94-2.06-.94-.94-2.06-.94 2.06-2.06.94zm-11 1L8.5 8.5l.94-2.06 2.06-.94-2.06-.94L8.5 2.5l-.94 2.06-2.06.94zm10 10l.94 2.06.94-2.06 2.06-.94-2.06-.94-.94-2.06-.94 2.06-2.06.94z\"/><path d=\"M17.41 7.96l-1.37-1.37c-.4-.4-.92-.59-1.43-.59-.52 0-1.04.2-1.43.59L10.3 9.45l-7.72 7.72c-.78.78-.78 2.05 0 2.83L4 21.41c.39.39.9.59 1.41.59.51 0 1.02-.2 1.41-.59l7.78-7.78 2.81-2.81c.8-.78.8-2.07 0-2.86zM5.41 20L4 18.59l7.72-7.72 1.47 1.35L5.41 20z\"/>\n",
       "  </svg>\n",
       "      </button>\n",
       "      \n",
       "  <style>\n",
       "    .colab-df-container {\n",
       "      display:flex;\n",
       "      flex-wrap:wrap;\n",
       "      gap: 12px;\n",
       "    }\n",
       "\n",
       "    .colab-df-convert {\n",
       "      background-color: #E8F0FE;\n",
       "      border: none;\n",
       "      border-radius: 50%;\n",
       "      cursor: pointer;\n",
       "      display: none;\n",
       "      fill: #1967D2;\n",
       "      height: 32px;\n",
       "      padding: 0 0 0 0;\n",
       "      width: 32px;\n",
       "    }\n",
       "\n",
       "    .colab-df-convert:hover {\n",
       "      background-color: #E2EBFA;\n",
       "      box-shadow: 0px 1px 2px rgba(60, 64, 67, 0.3), 0px 1px 3px 1px rgba(60, 64, 67, 0.15);\n",
       "      fill: #174EA6;\n",
       "    }\n",
       "\n",
       "    [theme=dark] .colab-df-convert {\n",
       "      background-color: #3B4455;\n",
       "      fill: #D2E3FC;\n",
       "    }\n",
       "\n",
       "    [theme=dark] .colab-df-convert:hover {\n",
       "      background-color: #434B5C;\n",
       "      box-shadow: 0px 1px 3px 1px rgba(0, 0, 0, 0.15);\n",
       "      filter: drop-shadow(0px 1px 2px rgba(0, 0, 0, 0.3));\n",
       "      fill: #FFFFFF;\n",
       "    }\n",
       "  </style>\n",
       "\n",
       "      <script>\n",
       "        const buttonEl =\n",
       "          document.querySelector('#df-93348875-1ae6-4896-9f9a-46a0f01035ef button.colab-df-convert');\n",
       "        buttonEl.style.display =\n",
       "          google.colab.kernel.accessAllowed ? 'block' : 'none';\n",
       "\n",
       "        async function convertToInteractive(key) {\n",
       "          const element = document.querySelector('#df-93348875-1ae6-4896-9f9a-46a0f01035ef');\n",
       "          const dataTable =\n",
       "            await google.colab.kernel.invokeFunction('convertToInteractive',\n",
       "                                                     [key], {});\n",
       "          if (!dataTable) return;\n",
       "\n",
       "          const docLinkHtml = 'Like what you see? Visit the ' +\n",
       "            '<a target=\"_blank\" href=https://colab.research.google.com/notebooks/data_table.ipynb>data table notebook</a>'\n",
       "            + ' to learn more about interactive tables.';\n",
       "          element.innerHTML = '';\n",
       "          dataTable['output_type'] = 'display_data';\n",
       "          await google.colab.output.renderOutput(dataTable, element);\n",
       "          const docLink = document.createElement('div');\n",
       "          docLink.innerHTML = docLinkHtml;\n",
       "          element.appendChild(docLink);\n",
       "        }\n",
       "      </script>\n",
       "    </div>\n",
       "  </div>\n",
       "  "
      ],
      "text/plain": [
       "                                                TEXT  SCORE\n",
       "0  cooki essenti tasteless eat one consist weird ...    2.0\n",
       "1  love tea good immun system help acheiv clear c...    5.0\n",
       "2  famili adopt raw food diet last year one thing...    5.0\n",
       "3  give tri wont want go back store brand fresh s...    5.0\n",
       "4  twist fruit bill healthier altern snack target...    4.0"
      ]
     },
     "execution_count": 11,
     "metadata": {},
     "output_type": "execute_result"
    }
   ],
   "source": [
    "print(np.shape(dataset))\n",
    "dataset.head()"
   ]
  },
  {
   "cell_type": "markdown",
   "metadata": {
    "id": "vi7n2d-MzDT_"
   },
   "source": [
    "### Number to category"
   ]
  },
  {
   "cell_type": "code",
   "execution_count": 12,
   "metadata": {
    "colab": {
     "base_uri": "https://localhost:8080/",
     "height": 607
    },
    "executionInfo": {
     "elapsed": 6681,
     "status": "ok",
     "timestamp": 1649462906578,
     "user": {
      "displayName": "Amir Bahador Eizadkhah",
      "userId": "17996642984763851948"
     },
     "user_tz": 240
    },
    "id": "SQvInZee5dSk",
    "outputId": "1961e2b4-3547-4336-9bee-1b47c03c988b"
   },
   "outputs": [
    {
     "data": {
      "image/png": "[encoded data removed]",
      "text/plain": [
       "<Figure size 576x576 with 1 Axes>"
      ]
     },
     "metadata": {
      "needs_background": "light"
     },
     "output_type": "display_data"
    }
   ],
   "source": [
    "plot_word_cloud(dataset, 'TEXT')"
   ]
  },
  {
   "cell_type": "markdown",
   "metadata": {
    "id": "jx6Vh4uTzNr7"
   },
   "source": [
    "### Vectorizing of dataset"
   ]
  },
  {
   "cell_type": "code",
   "execution_count": 13,
   "metadata": {
    "colab": {
     "base_uri": "https://localhost:8080/"
    },
    "executionInfo": {
     "elapsed": 2680,
     "status": "ok",
     "timestamp": 1649462909240,
     "user": {
      "displayName": "Amir Bahador Eizadkhah",
      "userId": "17996642984763851948"
     },
     "user_tz": 240
    },
    "id": "aE44GaooDF2S",
    "outputId": "4532db6e-4943-4f94-f78e-0e742ba581fc"
   },
   "outputs": [
    {
     "name": "stdout",
     "output_type": "stream",
     "text": [
      "Shape of the feature matrix: (33825, 5000)\n"
     ]
    }
   ],
   "source": [
    "tfidf_vectorizer = TfidfVectorizer(max_features=5000, ngram_range=(1, 3), lowercase=True, norm='l2', analyzer='word')\n",
    "X_vec = tfidf_vectorizer.fit_transform(dataset['TEXT'].values)\n",
    "y_vec = dataset['SCORE']\n",
    "\n",
    "X, y = SMOTE().fit_resample(X_vec, y_vec)\n",
    "\n",
    "print('Shape of the feature matrix:', np.shape(X))"
   ]
  },
  {
   "cell_type": "markdown",
   "metadata": {
    "id": "Q3d2A3lszXdi"
   },
   "source": [
    "### Train Test Split"
   ]
  },
  {
   "cell_type": "code",
   "execution_count": 14,
   "metadata": {
    "colab": {
     "base_uri": "https://localhost:8080/"
    },
    "executionInfo": {
     "elapsed": 8,
     "status": "ok",
     "timestamp": 1649462909241,
     "user": {
      "displayName": "Amir Bahador Eizadkhah",
      "userId": "17996642984763851948"
     },
     "user_tz": 240
    },
    "id": "-hnjchTdDF2T",
    "outputId": "c061b1f3-ee2f-442d-917d-61030d3dbd5a",
    "pycharm": {
     "name": "#%%\n"
    }
   },
   "outputs": [
    {
     "name": "stdout",
     "output_type": "stream",
     "text": [
      "Train Size: (27060, 5000)\n",
      "Test Size: (6765, 5000)\n"
     ]
    }
   ],
   "source": [
    "X_train, X_test, y_train, y_test = train_test_split(X, y, random_state=0, test_size=0.2, shuffle=True)\n",
    "print('Train Size:', np.shape(X_train))\n",
    "print('Test Size:', np.shape(X_test))"
   ]
  },
  {
   "cell_type": "markdown",
   "metadata": {
    "id": "jqeaNWZ51PNT"
   },
   "source": [
    "> ## ***Classification with SK-Learn***"
   ]
  },
  {
   "cell_type": "markdown",
   "metadata": {
    "id": "J_jxoTX-zckr"
   },
   "source": [
    "### **Classification**"
   ]
  },
  {
   "cell_type": "markdown",
   "metadata": {
    "id": "nxfnDGLlzlg7"
   },
   "source": [
    "#### Implementing Support Vector Machine"
   ]
  },
  {
   "cell_type": "code",
   "execution_count": 88,
   "metadata": {
    "executionInfo": {
     "elapsed": 94605,
     "status": "ok",
     "timestamp": 1649466538948,
     "user": {
      "displayName": "Amir Bahador Eizadkhah",
      "userId": "17996642984763851948"
     },
     "user_tz": 240
    },
    "id": "XPf-HXriNG_R"
   },
   "outputs": [],
   "source": [
    "svm_classifier = LinearSVC(C=200, loss='hinge', dual=False, max_iter=10000, penalty='l2', random_state=0, multi_class='ovr')\n",
    "svm_classifier.fit(X_train, y_train)\n",
    "y_pred_svm = svm_classifier.predict(X_test)"
   ]
  },
  {
   "cell_type": "markdown",
   "metadata": {
    "id": "i0H3-P_VzsCH"
   },
   "source": [
    "#### Implementing Random Forest"
   ]
  },
  {
   "cell_type": "code",
   "execution_count": 16,
   "metadata": {
    "executionInfo": {
     "elapsed": 190677,
     "status": "ok",
     "timestamp": 1649463156892,
     "user": {
      "displayName": "Amir Bahador Eizadkhah",
      "userId": "17996642984763851948"
     },
     "user_tz": 240
    },
    "id": "dmrjvivP10pQ"
   },
   "outputs": [],
   "source": [
    "random_forest_classifier = RandomForestClassifier(n_estimators=300, random_state=0, criterion='gini', max_features='sqrt', warm_start=True)\n",
    "random_forest_classifier.fit(X_train, y_train)\n",
    "y_pred_rf = random_forest_classifier.predict(X_test)"
   ]
  },
  {
   "cell_type": "markdown",
   "metadata": {
    "id": "BTpWkOBVzvx-"
   },
   "source": [
    "#### Implementing K-Nearest Neighbour"
   ]
  },
  {
   "cell_type": "code",
   "execution_count": 146,
   "metadata": {
    "executionInfo": {
     "elapsed": 9947,
     "status": "ok",
     "timestamp": 1649469763539,
     "user": {
      "displayName": "Amir Bahador Eizadkhah",
      "userId": "17996642984763851948"
     },
     "user_tz": 240
    },
    "id": "eUyNSjPq3eOd"
   },
   "outputs": [],
   "source": [
    "knn_classifier = KNeighborsClassifier(n_neighbors=2, metric='minkowski', p=2, weights='distance')\n",
    "knn_classifier.fit(X_train, y_train)\n",
    "y_pred_knn = knn_classifier.predict(X_test)"
   ]
  },
  {
   "cell_type": "markdown",
   "metadata": {
    "id": "sWY8rsztz16H"
   },
   "source": [
    "#### Implementing Gaussian Naïve Bayes"
   ]
  },
  {
   "cell_type": "code",
   "execution_count": 103,
   "metadata": {
    "executionInfo": {
     "elapsed": 6332,
     "status": "ok",
     "timestamp": 1649467517444,
     "user": {
      "displayName": "Amir Bahador Eizadkhah",
      "userId": "17996642984763851948"
     },
     "user_tz": 240
    },
    "id": "jRD_GCr72BzS"
   },
   "outputs": [],
   "source": [
    "nb_classifier = GaussianNB(var_smoothing=1e-3)\n",
    "nb_classifier.fit(X_train.toarray(), y_train)\n",
    "y_pred_nb = nb_classifier.predict(X_test.toarray())"
   ]
  },
  {
   "cell_type": "markdown",
   "metadata": {
    "id": "pdRflLhQ0A2s"
   },
   "source": [
    "### **Classification Report**"
   ]
  },
  {
   "cell_type": "code",
   "execution_count": 147,
   "metadata": {
    "colab": {
     "base_uri": "https://localhost:8080/"
    },
    "executionInfo": {
     "elapsed": 26,
     "status": "ok",
     "timestamp": 1649469763540,
     "user": {
      "displayName": "Amir Bahador Eizadkhah",
      "userId": "17996642984763851948"
     },
     "user_tz": 240
    },
    "id": "yFMd9JJhsFJG",
    "outputId": "f4e6c36a-e07c-431b-b0d4-013ae342a45d"
   },
   "outputs": [
    {
     "name": "stdout",
     "output_type": "stream",
     "text": [
      "______________________ /Gaussian Naïve Bayes\\ _______________________\n",
      "\n",
      "CLASSIFICATION REPORTS:\n",
      "\n",
      "              precision    recall  f1-score   support\n",
      "\n",
      "         1.0       0.82      0.68      0.74      1341\n",
      "         2.0       0.68      0.91      0.78      1369\n",
      "         3.0       0.71      0.89      0.79      1366\n",
      "         4.0       0.75      0.44      0.56      1346\n",
      "         5.0       0.67      0.67      0.67      1343\n",
      "\n",
      "    accuracy                           0.72      6765\n",
      "   macro avg       0.73      0.72      0.71      6765\n",
      "weighted avg       0.73      0.72      0.71      6765\n",
      "\n",
      "\n",
      "CONFUSION MATRIX:\n",
      "\n",
      "[[ 910  219  111   27   74]\n",
      " [  19 1241   40   12   57]\n",
      " [  18   67 1209   19   53]\n",
      " [  78  212  199  594  263]\n",
      " [  87   91  132  137  896]]\n",
      "\n",
      "MEAN SQUARE ERROR: 1.178\n",
      "____________________________________________________________________\n",
      "\n",
      "______________________ /K-Nearest Neighbour\\ _______________________\n",
      "\n",
      "CLASSIFICATION REPORTS:\n",
      "\n",
      "              precision    recall  f1-score   support\n",
      "\n",
      "         1.0       0.89      0.97      0.93      1341\n",
      "         2.0       0.64      0.94      0.76      1369\n",
      "         3.0       0.93      1.00      0.96      1366\n",
      "         4.0       0.68      0.89      0.77      1346\n",
      "         5.0       0.92      0.05      0.10      1343\n",
      "\n",
      "    accuracy                           0.77      6765\n",
      "   macro avg       0.81      0.77      0.70      6765\n",
      "weighted avg       0.81      0.77      0.70      6765\n",
      "\n",
      "\n",
      "CONFUSION MATRIX:\n",
      "\n",
      "[[1295    8   32    5    1]\n",
      " [  54 1284    0   28    3]\n",
      " [   3    0 1361    2    0]\n",
      " [  34   89   28 1193    2]\n",
      " [  63  637   36  536   71]]\n",
      "\n",
      "MEAN SQUARE ERROR: 1.259\n",
      "____________________________________________________________________\n",
      "\n",
      "______________________ /Random Forest\\ _______________________\n",
      "\n",
      "CLASSIFICATION REPORTS:\n",
      "\n",
      "              precision    recall  f1-score   support\n",
      "\n",
      "         1.0       0.91      0.91      0.91      1341\n",
      "         2.0       0.93      0.98      0.96      1369\n",
      "         3.0       0.95      0.96      0.95      1366\n",
      "         4.0       0.92      0.82      0.87      1346\n",
      "         5.0       0.83      0.86      0.85      1343\n",
      "\n",
      "    accuracy                           0.91      6765\n",
      "   macro avg       0.91      0.91      0.91      6765\n",
      "weighted avg       0.91      0.91      0.91      6765\n",
      "\n",
      "\n",
      "CONFUSION MATRIX:\n",
      "\n",
      "[[1223   34   31    3   50]\n",
      " [   2 1347    0    6   14]\n",
      " [   6    6 1313    4   37]\n",
      " [  36   45   28 1108  129]\n",
      " [  75   15   17   77 1159]]\n",
      "\n",
      "MEAN SQUARE ERROR: 0.511\n",
      "____________________________________________________________________\n",
      "\n",
      "____________________ /Support Vector Machine\\ _____________________\n",
      "\n",
      "CLASSIFICATION REPORTS:\n",
      "\n",
      "              precision    recall  f1-score   support\n",
      "\n",
      "         1.0       0.89      0.93      0.91      1341\n",
      "         2.0       0.89      0.99      0.94      1369\n",
      "         3.0       0.89      0.98      0.94      1366\n",
      "         4.0       0.81      0.85      0.83      1346\n",
      "         5.0       0.92      0.62      0.75      1343\n",
      "\n",
      "    accuracy                           0.88      6765\n",
      "   macro avg       0.88      0.88      0.87      6765\n",
      "weighted avg       0.88      0.88      0.87      6765\n",
      "\n",
      "\n",
      "CONFUSION MATRIX:\n",
      "\n",
      "[[1253   38   34   10    6]\n",
      " [   3 1358    2    0    6]\n",
      " [   8    0 1344    9    5]\n",
      " [  41   67   35 1150   53]\n",
      " [ 103   61   87  253  839]]\n",
      "\n",
      "MEAN SQUARE ERROR: 0.592\n"
     ]
    }
   ],
   "source": [
    "print('______________________ /Gaussian Naïve Bayes\\ _______________________\\n')\n",
    "print('CLASSIFICATION REPORTS:\\n')\n",
    "print(classification_report(y_test, y_pred_nb, zero_division=0))\n",
    "print('\\nCONFUSION MATRIX:\\n')\n",
    "print(confusion_matrix(y_test, y_pred_nb))\n",
    "print(f'\\nMEAN SQUARE ERROR: {mean_squared_error(y_test, y_pred_nb) :.3f}')\n",
    "print('____________________________________________________________________\\n')\n",
    "\n",
    "print('______________________ /K-Nearest Neighbour\\ _______________________\\n')\n",
    "print('CLASSIFICATION REPORTS:\\n')\n",
    "print(classification_report(y_test, y_pred_knn, zero_division=0))\n",
    "print('\\nCONFUSION MATRIX:\\n')\n",
    "print(confusion_matrix(y_test, y_pred_knn))\n",
    "print(f'\\nMEAN SQUARE ERROR: {mean_squared_error(y_test, y_pred_knn) :.3f}')\n",
    "print('____________________________________________________________________\\n')\n",
    "\n",
    "print('______________________ /Random Forest\\ _______________________\\n')\n",
    "print('CLASSIFICATION REPORTS:\\n')\n",
    "print(classification_report(y_test, y_pred_rf, zero_division=0))\n",
    "print('\\nCONFUSION MATRIX:\\n')\n",
    "print(confusion_matrix(y_test, y_pred_rf))\n",
    "print(f'\\nMEAN SQUARE ERROR: {mean_squared_error(y_test, y_pred_rf) :.3f}')\n",
    "print('____________________________________________________________________\\n')\n",
    "\n",
    "print('____________________ /Support Vector Machine\\ _____________________\\n')\n",
    "print('CLASSIFICATION REPORTS:\\n')\n",
    "print(classification_report(y_test, y_pred_svm, zero_division=0))\n",
    "print('\\nCONFUSION MATRIX:\\n')\n",
    "print(confusion_matrix(y_test, y_pred_svm))\n",
    "print(f'\\nMEAN SQUARE ERROR: {mean_squared_error(y_test, y_pred_svm) :.3f}')"
   ]
  },
  {
   "cell_type": "markdown",
   "metadata": {
    "id": "sKeFuaLuwQKB"
   },
   "source": [
    "> ## ***LSTM with PyTorch***"
   ]
  },
  {
   "cell_type": "markdown",
   "metadata": {
    "id": "og4wRVl53lyM"
   },
   "source": [
    "### **Deep Learning**"
   ]
  },
  {
   "cell_type": "code",
   "execution_count": 20,
   "metadata": {
    "colab": {
     "base_uri": "https://localhost:8080/"
    },
    "executionInfo": {
     "elapsed": 10,
     "status": "ok",
     "timestamp": 1649463167443,
     "user": {
      "displayName": "Amir Bahador Eizadkhah",
      "userId": "17996642984763851948"
     },
     "user_tz": 240
    },
    "id": "uU0-IQtvxcTK",
    "outputId": "add67c76-12c4-40c8-da5c-110b90f10739"
   },
   "outputs": [
    {
     "name": "stdout",
     "output_type": "stream",
     "text": [
      "Author: Sebastian Raschka\n",
      "\n",
      "Python implementation: CPython\n",
      "Python version       : 3.7.13\n",
      "IPython version      : 5.5.0\n",
      "\n",
      "torch    : 1.10.0+cu111\n",
      "torchtext: 0.11.0\n",
      "\n"
     ]
    }
   ],
   "source": [
    "%load_ext watermark\n",
    "%watermark -a 'Sebastian Raschka' -v -p torch,torchtext"
   ]
  },
  {
   "cell_type": "code",
   "execution_count": 21,
   "metadata": {
    "executionInfo": {
     "elapsed": 6,
     "status": "ok",
     "timestamp": 1649463167444,
     "user": {
      "displayName": "Amir Bahador Eizadkhah",
      "userId": "17996642984763851948"
     },
     "user_tz": 240
    },
    "id": "EIZEx2VecC5t"
   },
   "outputs": [],
   "source": [
    "def plt_acc_loss(train, val, epochs, plttype):\n",
    "    epochstoplot = range(1, epochs + 1)\n",
    "    plt.plot(epochstoplot, train, label='Training ' + plttype)\n",
    "    plt.plot(epochstoplot, val, label='validation ' + plttype)\n",
    "    plt.title('Training and Validation ' + plttype)\n",
    "    plt.xlabel('Epochs')\n",
    "    plt.ylabel(plttype)\n",
    "    plt.legend()\n",
    "    plt.show()"
   ]
  },
  {
   "cell_type": "markdown",
   "metadata": {
    "id": "LGuk4DZEpnLG"
   },
   "source": [
    "#### Hyper Parameters"
   ]
  },
  {
   "cell_type": "code",
   "execution_count": 22,
   "metadata": {
    "executionInfo": {
     "elapsed": 387,
     "status": "ok",
     "timestamp": 1649463167825,
     "user": {
      "displayName": "Amir Bahador Eizadkhah",
      "userId": "17996642984763851948"
     },
     "user_tz": 240
    },
    "id": "GPIE92acwPwg"
   },
   "outputs": [],
   "source": [
    "RANDOM_SEED = 123\n",
    "torch.manual_seed(RANDOM_SEED)\n",
    "torch.cuda.manual_seed(RANDOM_SEED)\n",
    "torch.cuda.manual_seed_all(RANDOM_SEED)\n",
    "np.random.seed(RANDOM_SEED)\n",
    "random.seed(RANDOM_SEED)\n",
    "\n",
    "VOCABULARY_SIZE = 30000\n",
    "LEARNING_RATE = 0.00146\n",
    "BATCH_SIZE = 64\n",
    "NUM_EPOCHS = 50\n",
    "\n",
    "EMBEDDING_DIM = 128\n",
    "HIDDEN_DIM = 256\n",
    "NUM_CLASSES = 5\n",
    "\n",
    "DEVICE = torch.device('cuda' if torch.cuda.is_available() else 'cpu')\n",
    "torch.backends.cudnn.benchmark = False\n",
    "torch.backends.cudnn.deterministic = True"
   ]
  },
  {
   "cell_type": "markdown",
   "metadata": {
    "id": "I6PN1YVe106C"
   },
   "source": [
    "#### Definition X and Y label and torch dataset"
   ]
  },
  {
   "cell_type": "code",
   "execution_count": 23,
   "metadata": {
    "executionInfo": {
     "elapsed": 2950,
     "status": "ok",
     "timestamp": 1649463170772,
     "user": {
      "displayName": "Amir Bahador Eizadkhah",
      "userId": "17996642984763851948"
     },
     "user_tz": 240
    },
    "id": "kFxUJsFpwtm5"
   },
   "outputs": [],
   "source": [
    "X_torch_v = torchtext.legacy.data.Field(\n",
    "    tokenize='spacy',\n",
    "    tokenizer_language='en_core_web_sm',\n",
    "    lower=True,\n",
    "    batch_first=True\n",
    ")\n",
    "\n",
    "y_torch_v = torchtext.legacy.data.LabelField(dtype=torch.long, sequential=False, batch_first=True)\n",
    "\n",
    "dataset_torch = torchtext.legacy.data.TabularDataset(\n",
    "    path=dataset_dir + 'Reviews_Modified.csv', format='csv',\n",
    "    skip_header=True, fields=[(('TEXT'), X_torch_v), (('SCORE'), y_torch_v)])"
   ]
  },
  {
   "cell_type": "markdown",
   "metadata": {
    "id": "Z4UNR4zt1-ST"
   },
   "source": [
    "#### Train Test Split"
   ]
  },
  {
   "cell_type": "code",
   "execution_count": 24,
   "metadata": {
    "colab": {
     "base_uri": "https://localhost:8080/"
    },
    "executionInfo": {
     "elapsed": 20,
     "status": "ok",
     "timestamp": 1649463170772,
     "user": {
      "displayName": "Amir Bahador Eizadkhah",
      "userId": "17996642984763851948"
     },
     "user_tz": 240
    },
    "id": "dvOzxsmTwwVR",
    "outputId": "555e0afa-ee6a-4c74-84df-60fea707bda0"
   },
   "outputs": [
    {
     "name": "stdout",
     "output_type": "stream",
     "text": [
      "Num Train: 9472\n",
      "Num Test: 2368\n"
     ]
    }
   ],
   "source": [
    "train_data, test_data = dataset_torch.split(\n",
    "    split_ratio=[0.8, 0.2],\n",
    "    random_state=random.seed(RANDOM_SEED))\n",
    "\n",
    "print(f'Num Train: {len(train_data)}')\n",
    "print(f'Num Test: {len(test_data)}')"
   ]
  },
  {
   "cell_type": "markdown",
   "metadata": {
    "id": "c66piJiu2K5y"
   },
   "source": [
    "#### Creating Validation Set"
   ]
  },
  {
   "cell_type": "code",
   "execution_count": 25,
   "metadata": {
    "colab": {
     "base_uri": "https://localhost:8080/"
    },
    "executionInfo": {
     "elapsed": 19,
     "status": "ok",
     "timestamp": 1649463170773,
     "user": {
      "displayName": "Amir Bahador Eizadkhah",
      "userId": "17996642984763851948"
     },
     "user_tz": 240
    },
    "id": "hZLXsznSw3BO",
    "outputId": "4829a172-5853-43f2-8566-3fbf614a4eb6"
   },
   "outputs": [
    {
     "name": "stdout",
     "output_type": "stream",
     "text": [
      "Num Train: 8051\n",
      "Num Validation: 1421\n"
     ]
    }
   ],
   "source": [
    "train_data, valid_data = train_data.split(\n",
    "    split_ratio=[0.85, 0.15],\n",
    "    random_state=random.seed(RANDOM_SEED))\n",
    "\n",
    "print(f'Num Train: {len(train_data)}')\n",
    "print(f'Num Validation: {len(valid_data)}')"
   ]
  },
  {
   "cell_type": "code",
   "execution_count": 26,
   "metadata": {
    "colab": {
     "base_uri": "https://localhost:8080/"
    },
    "executionInfo": {
     "elapsed": 18,
     "status": "ok",
     "timestamp": 1649463170774,
     "user": {
      "displayName": "Amir Bahador Eizadkhah",
      "userId": "17996642984763851948"
     },
     "user_tz": 240
    },
    "id": "CRqPk6Vx3941",
    "outputId": "26117306-9ae3-454a-ddba-b7239ec4af9d"
   },
   "outputs": [
    {
     "name": "stdout",
     "output_type": "stream",
     "text": [
      "Vocabulary size: 17441\n",
      "Number of classes: 5\n"
     ]
    }
   ],
   "source": [
    "X_torch_v.build_vocab(train_data, max_size=VOCABULARY_SIZE)\n",
    "y_torch_v.build_vocab(train_data)\n",
    "\n",
    "print(f'Vocabulary size: {len(X_torch_v.vocab)}')\n",
    "print(f'Number of classes: {len(y_torch_v.vocab)}')"
   ]
  },
  {
   "cell_type": "markdown",
   "metadata": {
    "id": "b5m8QDKR2X7B"
   },
   "source": [
    "#### Data Loader"
   ]
  },
  {
   "cell_type": "code",
   "execution_count": 27,
   "metadata": {
    "colab": {
     "base_uri": "https://localhost:8080/"
    },
    "executionInfo": {
     "elapsed": 4123,
     "status": "ok",
     "timestamp": 1649463174883,
     "user": {
      "displayName": "Amir Bahador Eizadkhah",
      "userId": "17996642984763851948"
     },
     "user_tz": 240
    },
    "id": "_QOVwu0MxKX9",
    "outputId": "cd604008-99c1-436a-ffe5-c36fd0ad5ca0"
   },
   "outputs": [
    {
     "name": "stdout",
     "output_type": "stream",
     "text": [
      "Train\n",
      "Text matrix size: torch.Size([64, 50])\n",
      "Target vector size: torch.Size([64])\n",
      "\n",
      "Valid:\n",
      "Text matrix size: torch.Size([2, 0])\n",
      "Target vector size: torch.Size([2])\n"
     ]
    }
   ],
   "source": [
    "train_loader, _ = \\\n",
    "    torchtext.legacy.data.BucketIterator.splits(\n",
    "        (train_data, _),\n",
    "         batch_size=BATCH_SIZE,\n",
    "         sort_within_batch=True,\n",
    "         shuffle=True,\n",
    "         sort_key=lambda x: len(x.TEXT),\n",
    "         device=DEVICE\n",
    "    )\n",
    "_, valid_loader = \\\n",
    "    torchtext.legacy.data.BucketIterator.splits(\n",
    "        (_, valid_data),\n",
    "         batch_size=2,\n",
    "         sort_within_batch=True,\n",
    "         shuffle=False,\n",
    "         sort_key=lambda x: len(x.TEXT),\n",
    "         device=DEVICE\n",
    "    )\n",
    "\n",
    "print('Train')\n",
    "for batch in train_loader:\n",
    "    print(f'Text matrix size: {batch.TEXT.size()}')\n",
    "    print(f'Target vector size: {batch.SCORE.size()}')\n",
    "    break\n",
    "\n",
    "print('\\nValid:')\n",
    "for batch in valid_loader:\n",
    "    print(f'Text matrix size: {batch.TEXT.size()}')\n",
    "    print(f'Target vector size: {batch.SCORE.size()}')\n",
    "    break"
   ]
  },
  {
   "cell_type": "markdown",
   "metadata": {
    "id": "1c3EB2vB2pew"
   },
   "source": [
    "#### Building the Model"
   ]
  },
  {
   "cell_type": "code",
   "execution_count": 28,
   "metadata": {
    "executionInfo": {
     "elapsed": 16,
     "status": "ok",
     "timestamp": 1649463174884,
     "user": {
      "displayName": "Amir Bahador Eizadkhah",
      "userId": "17996642984763851948"
     },
     "user_tz": 240
    },
    "id": "Xwj6RBTqxQc_"
   },
   "outputs": [],
   "source": [
    "class LSTM(torch.nn.Module):\n",
    "    \n",
    "    def __init__(self, input_dim, embedding_dim, hidden_dim, output_dim):\n",
    "        super().__init__()\n",
    "\n",
    "        self.embedding = torch.nn.Embedding(input_dim, embedding_dim)\n",
    "        self.rnn = torch.nn.LSTM(embedding_dim, hidden_dim, batch_first=True)\n",
    "        self.linear = torch.nn.Linear(hidden_dim, output_dim)\n",
    "        \n",
    "    def forward(self, X):\n",
    "        # X dim: [sentence length, batch size]\n",
    "        \n",
    "        embedded = self.embedding(X)\n",
    "        # embedded dim: [sentence length, batch size, embedding dim]\n",
    "\n",
    "        output, (hidden, cell) = self.rnn(embedded)\n",
    "        # output dim: [sentence length, batch size, hidden dim]\n",
    "        # hidden dim: [1, batch size, hidden dim]\n",
    "\n",
    "        hidden.squeeze_(0)\n",
    "        # hidden dim: [batch size, hidden dim]\n",
    "        \n",
    "        output = self.linear(hidden)\n",
    "\n",
    "        return output"
   ]
  },
  {
   "cell_type": "code",
   "execution_count": 68,
   "metadata": {
    "colab": {
     "base_uri": "https://localhost:8080/"
    },
    "executionInfo": {
     "elapsed": 251,
     "status": "ok",
     "timestamp": 1649464111493,
     "user": {
      "displayName": "Amir Bahador Eizadkhah",
      "userId": "17996642984763851948"
     },
     "user_tz": 240
    },
    "id": "wg0KO6Y_pE53",
    "outputId": "b0996735-2803-4619-be16-870974e299ef"
   },
   "outputs": [
    {
     "name": "stdout",
     "output_type": "stream",
     "text": [
      "LSTM(\n",
      "  (embedding): Embedding(17441, 128)\n",
      "  (rnn): LSTM(128, 256, batch_first=True)\n",
      "  (linear): Linear(in_features=256, out_features=5, bias=True)\n",
      ")\n"
     ]
    }
   ],
   "source": [
    "print(LSTM(input_dim=len(X_torch_v.vocab),\n",
    "            embedding_dim=EMBEDDING_DIM,\n",
    "            hidden_dim=HIDDEN_DIM,\n",
    "            output_dim=NUM_CLASSES))"
   ]
  },
  {
   "cell_type": "markdown",
   "metadata": {
    "id": "rht33Q-j2zFI"
   },
   "source": [
    "#### Training the RNN Model"
   ]
  },
  {
   "cell_type": "code",
   "execution_count": 29,
   "metadata": {
    "executionInfo": {
     "elapsed": 15,
     "status": "ok",
     "timestamp": 1649463174885,
     "user": {
      "displayName": "Amir Bahador Eizadkhah",
      "userId": "17996642984763851948"
     },
     "user_tz": 240
    },
    "id": "Er-xa88mYxyn"
   },
   "outputs": [],
   "source": [
    "def measure_acc(y_predict, y_test):\n",
    "    y_pred_softmax = torch.log_softmax(y_predict, dim=1)\n",
    "    _, y_pred = torch.max(y_pred_softmax, dim=1)\n",
    "    correct_pred = (y_pred == y_test).float()\n",
    "    accuracy = correct_pred.sum() / len(correct_pred)\n",
    "    accuracy = torch.round(accuracy * 100)\n",
    "    return accuracy"
   ]
  },
  {
   "cell_type": "markdown",
   "metadata": {
    "id": "SlzozHiW28HN"
   },
   "source": [
    "Training with train set and validation set (Colab GPU required)"
   ]
  },
  {
   "cell_type": "code",
   "execution_count": 30,
   "metadata": {
    "colab": {
     "base_uri": "https://localhost:8080/",
     "height": 299,
     "referenced_widgets": [
      "2513e131318e4b4db2f93f488fda65cc",
      "b4d71306cb9c4258b82de44b8e53dd34",
      "76650904378c425fa0f6c08fa162d1ff",
      "fe909d2e499f43dcbf8703e343da028a",
      "85f8584eb3e04eec98d6b8ce7bba16c9",
      "5e79eceff17348fab458e64c057b9728",
      "ac2e806c708f4a13ba044aa479205a43",
      "983d6b6c26f743bcac056601c07e6cda",
      "969df997ba1442d7a2366f5865ffa7a5",
      "a05752f88b7746929dbfd74aae0729f3",
      "52b0c0d963784c4fb02b1da79b5268b4"
     ]
    },
    "executionInfo": {
     "elapsed": 117049,
     "status": "ok",
     "timestamp": 1649463291920,
     "user": {
      "displayName": "Amir Bahador Eizadkhah",
      "userId": "17996642984763851948"
     },
     "user_tz": 240
    },
    "id": "nQAavIFWxWRf",
    "outputId": "6de13352-f0ac-4821-b4f4-606310af34db"
   },
   "outputs": [
    {
     "data": {
      "application/vnd.jupyter.widget-view+json": {
       "model_id": "2513e131318e4b4db2f93f488fda65cc",
       "version_major": 2,
       "version_minor": 0
      },
      "text/plain": [
       "  0%|          | 0/50 [00:00<?, ?it/s]"
      ]
     },
     "metadata": {},
     "output_type": "display_data"
    },
    {
     "name": "stdout",
     "output_type": "stream",
     "text": [
      "Epochs 005 / 050: | Train Loss: 0.7603 | Validation Loss: 0.8166 | Train Accuracy: 71.698| Validation Accuracy: 70.00\n",
      "Epochs 010 / 050: | Train Loss: 0.1752 | Validation Loss: 0.1389 | Train Accuracy: 93.897| Validation Accuracy: 98.00\n",
      "Epochs 015 / 050: | Train Loss: 0.0708 | Validation Loss: 0.1192 | Train Accuracy: 96.444| Validation Accuracy: 97.00\n",
      "Epochs 020 / 050: | Train Loss: 0.0674 | Validation Loss: 0.0008 | Train Accuracy: 96.508| Validation Accuracy: 100.00\n",
      "Epochs 025 / 050: | Train Loss: 0.0647 | Validation Loss: 0.0005 | Train Accuracy: 96.516| Validation Accuracy: 100.00\n",
      "Epochs 030 / 050: | Train Loss: 0.0622 | Validation Loss: 0.0009 | Train Accuracy: 96.373| Validation Accuracy: 100.00\n",
      "Epochs 035 / 050: | Train Loss: 0.0663 | Validation Loss: 0.0661 | Train Accuracy: 96.452| Validation Accuracy: 95.00\n",
      "Epochs 040 / 050: | Train Loss: 0.0614 | Validation Loss: 0.0005 | Train Accuracy: 96.429| Validation Accuracy: 100.00\n",
      "Epochs 045 / 050: | Train Loss: 0.0711 | Validation Loss: 0.3299 | Train Accuracy: 96.381| Validation Accuracy: 83.00\n",
      "Epochs 050 / 050: | Train Loss: 0.0614 | Validation Loss: 0.1688 | Train Accuracy: 96.659| Validation Accuracy: 92.00\n",
      "\n",
      "Training is completed!\n",
      "_____________________________\n",
      "Total Training Time: 1.95 min\n"
     ]
    }
   ],
   "source": [
    "start_time = time.time()\n",
    "\n",
    "accuracy_stats = {\n",
    "    'train': [],\n",
    "    \"validation\": []\n",
    "}\n",
    "\n",
    "loss_stats = {\n",
    "    'train': [],\n",
    "    'validation': []\n",
    "}\n",
    "\n",
    "\n",
    "model = LSTM(input_dim=len(X_torch_v.vocab),\n",
    "            embedding_dim=EMBEDDING_DIM,\n",
    "            hidden_dim=HIDDEN_DIM,\n",
    "            output_dim=NUM_CLASSES\n",
    ")\n",
    "\n",
    "model = model.to(DEVICE)\n",
    "loss = CrossEntropyLoss()\n",
    "optimizer = torch.optim.Adam(model.parameters(), lr=LEARNING_RATE, weight_decay=1e-6)\n",
    "\n",
    "for epoch in tqdm(range(NUM_EPOCHS)):\n",
    "    train_epoch_loss = 0\n",
    "    train_epoch_acc = 0\n",
    "    model.train()\n",
    "    for batch_idx, batch_data in enumerate(train_loader):\n",
    "        \n",
    "        text = batch_data.TEXT.to(DEVICE)\n",
    "        labels = batch_data.SCORE.to(DEVICE)\n",
    "\n",
    "        logits = model(text)\n",
    "        l = loss(logits, labels)\n",
    "\n",
    "        optimizer.zero_grad()\n",
    "        l.backward()\n",
    "        optimizer.step()\n",
    "\n",
    "        train_acc = measure_acc(logits, labels)\n",
    "\n",
    "        train_epoch_loss += l.item()\n",
    "        train_epoch_acc += train_acc.item()\n",
    "    \n",
    "    with torch.no_grad():\n",
    "        val_epoch_loss = 0\n",
    "        val_epoch_acc = 0\n",
    "        model.eval()\n",
    "\n",
    "        for batch_idx_val, batch_data_val in enumerate(valid_loader):\n",
    "            text_val = batch_data.TEXT.to(DEVICE)\n",
    "            labels_val = batch_data.SCORE.to(DEVICE)\n",
    "\n",
    "            logits_val = model(text_val)\n",
    "            loss_val = loss(logits_val, labels_val)\n",
    "\n",
    "            val_acc = measure_acc(logits_val, labels_val)\n",
    "            val_epoch_loss += loss_val.item()\n",
    "            val_epoch_acc += val_acc.item()\n",
    "\n",
    "    if (epoch + 1) % 5 == 0:\n",
    "          print(\n",
    "              f'Epochs {epoch + 1:03d} / {NUM_EPOCHS:03d}: | Train Loss: {train_epoch_loss / len(train_loader):.4f} '\n",
    "              f'| Validation Loss: {val_epoch_loss / len(valid_loader):.4f} '\n",
    "              f'| Train Accuracy: {train_epoch_acc / len(train_loader):.3f}'\n",
    "              f'| Validation Accuracy: {val_epoch_acc / len(valid_loader):.2f}')\n",
    "\n",
    "    loss_stats['train'].append(train_epoch_loss / len(train_loader))\n",
    "    loss_stats['validation'].append(val_epoch_loss / len(valid_loader))\n",
    "    accuracy_stats['train'].append(train_epoch_acc / len(train_loader))\n",
    "    accuracy_stats['validation'].append(val_epoch_acc / len(valid_loader))\n",
    "\n",
    "print('\\nTraining is completed!')\n",
    "print('_____________________________')\n",
    "print(f'Total Training Time: {(time.time() - start_time)/60:.2f} min')"
   ]
  },
  {
   "cell_type": "code",
   "execution_count": 31,
   "metadata": {
    "colab": {
     "base_uri": "https://localhost:8080/",
     "height": 295
    },
    "executionInfo": {
     "elapsed": 66,
     "status": "ok",
     "timestamp": 1649463291922,
     "user": {
      "displayName": "Amir Bahador Eizadkhah",
      "userId": "17996642984763851948"
     },
     "user_tz": 240
    },
    "id": "S1TAluVsTWHZ",
    "outputId": "7bba0843-2bab-4a1e-d80b-362072ab3e66"
   },
   "outputs": [
    {
     "data": {
      "image/png": "[encoded data removed]",
      "text/plain": [
       "<Figure size 432x288 with 1 Axes>"
      ]
     },
     "metadata": {
      "needs_background": "light"
     },
     "output_type": "display_data"
    }
   ],
   "source": [
    "plt_acc_loss(loss_stats['train'], loss_stats['validation'], NUM_EPOCHS, 'Loss')"
   ]
  },
  {
   "cell_type": "code",
   "execution_count": 32,
   "metadata": {
    "colab": {
     "base_uri": "https://localhost:8080/",
     "height": 295
    },
    "executionInfo": {
     "elapsed": 404,
     "status": "ok",
     "timestamp": 1649463292263,
     "user": {
      "displayName": "Amir Bahador Eizadkhah",
      "userId": "17996642984763851948"
     },
     "user_tz": 240
    },
    "id": "ZneFQ-5NRubu",
    "outputId": "50605e97-715b-439a-f979-8d7dcb480052"
   },
   "outputs": [
    {
     "data": {
      "image/png": "[encoded data removed]",
      "text/plain": [
       "<Figure size 432x288 with 1 Axes>"
      ]
     },
     "metadata": {
      "needs_background": "light"
     },
     "output_type": "display_data"
    }
   ],
   "source": [
    "plt_acc_loss(accuracy_stats['train'], accuracy_stats['validation'], NUM_EPOCHS, 'Accuracy')"
   ]
  },
  {
   "cell_type": "markdown",
   "metadata": {
    "id": "UBUcyaBu3Hyx"
   },
   "source": [
    "#### Testing the RNN Model"
   ]
  },
  {
   "cell_type": "markdown",
   "metadata": {
    "id": "rx55tbQJ3Q76"
   },
   "source": [
    "##### testing"
   ]
  },
  {
   "cell_type": "code",
   "execution_count": 63,
   "metadata": {
    "executionInfo": {
     "elapsed": 231,
     "status": "ok",
     "timestamp": 1649464016810,
     "user": {
      "displayName": "Amir Bahador Eizadkhah",
      "userId": "17996642984763851948"
     },
     "user_tz": 240
    },
    "id": "TavX4AF3dFWj"
   },
   "outputs": [],
   "source": [
    "def test_model(batch_size):\n",
    "    k, test_loader = torchtext.legacy.data.BucketIterator.splits(\n",
    "        (train_data, test_data),\n",
    "         batch_size=batch_size,\n",
    "         sort_within_batch=True,\n",
    "         shuffle=True,\n",
    "         sort_key=lambda x: len(x.TEXT),\n",
    "         device=DEVICE)\n",
    "    y_pred_list = []\n",
    "    y_true_list = []\n",
    "\n",
    "    model.eval()\n",
    "    with torch.no_grad():\n",
    "        for X_test_torch, y_test_torch in test_loader:\n",
    "            X_test_t, y_test_t = X_test_torch.to(DEVICE), y_test_torch.to(DEVICE)\n",
    "\n",
    "            y_torch_pred = model(X_test_t)\n",
    "            _, y_t_pred = torch.max(y_torch_pred, dim=-1)\n",
    "\n",
    "            y_pred_list.append(y_t_pred.cpu().numpy())\n",
    "            y_true_list.append(y_test_t.cpu().numpy())\n",
    "\n",
    "    y_pred_list = [i[0] for i in y_pred_list]\n",
    "    y_true_list = [i[0] for i in y_true_list]\n",
    "\n",
    "    return y_true_list, y_pred_list"
   ]
  },
  {
   "cell_type": "code",
   "execution_count": 64,
   "metadata": {
    "executionInfo": {
     "elapsed": 22813,
     "status": "ok",
     "timestamp": 1649464044455,
     "user": {
      "displayName": "Amir Bahador Eizadkhah",
      "userId": "17996642984763851948"
     },
     "user_tz": 240
    },
    "id": "nw_nfTV_W1GQ"
   },
   "outputs": [],
   "source": [
    "batch_size_vals = []\n",
    "y_pred_list = []\n",
    "y_true_list = []\n",
    "for i in range(1, 129):\n",
    "    y_true_list, y_pred_list = test_model(i)\n",
    "    batch_size_vals.append(accuracy_score(y_true_list, y_pred_list))"
   ]
  },
  {
   "cell_type": "code",
   "execution_count": 74,
   "metadata": {
    "executionInfo": {
     "elapsed": 255,
     "status": "ok",
     "timestamp": 1649464502478,
     "user": {
      "displayName": "Amir Bahador Eizadkhah",
      "userId": "17996642984763851948"
     },
     "user_tz": 240
    },
    "id": "Kk_3xjDRvm5R"
   },
   "outputs": [],
   "source": [
    "y_pred_list = []\n",
    "y_true_list = []\n",
    "y_true_list, y_pred_list = test_model(batch_size_vals.index(max(batch_size_vals)) + 1)"
   ]
  },
  {
   "cell_type": "markdown",
   "metadata": {
    "id": "lBlqlksC3asX"
   },
   "source": [
    "### **Classification Report**"
   ]
  },
  {
   "cell_type": "code",
   "execution_count": 75,
   "metadata": {
    "colab": {
     "base_uri": "https://localhost:8080/"
    },
    "executionInfo": {
     "elapsed": 351,
     "status": "ok",
     "timestamp": 1649464505697,
     "user": {
      "displayName": "Amir Bahador Eizadkhah",
      "userId": "17996642984763851948"
     },
     "user_tz": 240
    },
    "id": "3laWSNJcm4lV",
    "outputId": "8d108918-4274-452e-de42-1e00ce054096"
   },
   "outputs": [
    {
     "name": "stdout",
     "output_type": "stream",
     "text": [
      "____________________ /LSTM\\ _____________________\n",
      "\n",
      "CLASSIFICATION REPORTS\n",
      "\n",
      "              precision    recall  f1-score   support\n",
      "\n",
      "           0       0.87      1.00      0.93        13\n",
      "           1       1.00      0.33      0.50         3\n",
      "           2       1.00      0.67      0.80         3\n",
      "           3       1.00      1.00      1.00         2\n",
      "           4       0.67      1.00      0.80         2\n",
      "\n",
      "    accuracy                           0.87        23\n",
      "   macro avg       0.91      0.80      0.81        23\n",
      "weighted avg       0.90      0.87      0.85        23\n",
      "\n",
      "\n",
      "CONFUSION MATRIX\n",
      "\n",
      "[[13  0  0  0  0]\n",
      " [ 2  1  0  0  0]\n",
      " [ 0  0  2  0  1]\n",
      " [ 0  0  0  2  0]\n",
      " [ 0  0  0  0  2]]\n",
      "\n",
      "MEAN SQUARE ERROR: 0.261\n"
     ]
    }
   ],
   "source": [
    "print('____________________ /LSTM\\ _____________________\\n')\n",
    "print('CLASSIFICATION REPORTS\\n')\n",
    "print(classification_report(y_true_list, y_pred_list, zero_division=0))\n",
    "print('\\nCONFUSION MATRIX\\n')\n",
    "print(confusion_matrix(y_true_list, y_pred_list))\n",
    "print(f'\\nMEAN SQUARE ERROR: {mean_squared_error(y_true_list, y_pred_list) :.3f}')"
   ]
  },
  {
   "cell_type": "code",
   "execution_count": 76,
   "metadata": {
    "colab": {
     "base_uri": "https://localhost:8080/",
     "height": 475
    },
    "executionInfo": {
     "elapsed": 676,
     "status": "ok",
     "timestamp": 1649464533920,
     "user": {
      "displayName": "Amir Bahador Eizadkhah",
      "userId": "17996642984763851948"
     },
     "user_tz": 240
    },
    "id": "Wdycbx8kFkGO",
    "outputId": "bb6ec05e-a50f-469d-a63d-c27e248930d0"
   },
   "outputs": [
    {
     "data": {
      "text/plain": [
       "<matplotlib.colorbar.Colorbar at 0x7fa1bb1328d0>"
      ]
     },
     "execution_count": 76,
     "metadata": {},
     "output_type": "execute_result"
    },
    {
     "data": {
      "image/png": "[encoded data removed]",
      "text/plain": [
       "<Figure size 288x432 with 3 Axes>"
      ]
     },
     "metadata": {
      "needs_background": "light"
     },
     "output_type": "display_data"
    }
   ],
   "source": [
    "tensor_dict = {\n",
    "    'y_true': torch.FloatTensor(y_true_list),\n",
    "    '$\\hat{y}$': torch.FloatTensor(y_pred_list)\n",
    "    }\n",
    "\n",
    "n = len(tensor_dict)\n",
    "vmax = max(v.abs().max() for v in tensor_dict.values())\n",
    "figsize = (2 * n, 6)\n",
    "fig, axes = plt.subplots(1, n, figsize=figsize, constrained_layout=True, squeeze=True)\n",
    "axes = axes.flat if isinstance(axes, np.ndarray) else (axes,)\n",
    "for (name, v), ax in zip(tensor_dict.items(), axes):\n",
    "    v = torch.squeeze(v.detach())\n",
    "    if v.ndim == 1:\n",
    "        v = v.view(-1, 1)\n",
    "    img = ax.matshow(v, vmin=-vmax, vmax=vmax, cmap=plt.get_cmap('bwr'))\n",
    "    ax.set_xticks([])\n",
    "    ax.set_yticks([])\n",
    "    ax.set_title(name)\n",
    "fig.colorbar(img, cax=fig.add_axes([0.985, 0.25, 0.03, .5]))"
   ]
  }
 ],
 "metadata": {
  "accelerator": "GPU",
  "colab": {
   "collapsed_sections": [],
   "name": "TextMining-COMP6321.ipynb",
   "provenance": [
    {
     "file_id": "17G63h6iG1pCJq9WmuJqgf1TRZ2iLJikb",
     "timestamp": 1648318461051
    },
    {
     "file_id": "1fgy-mxuMxdUOWS2l3BnhSQEDJvnDihvJ",
     "timestamp": 1648258770941
    }
   ]
  },
  "kernelspec": {
   "display_name": "Python 3 (ipykernel)",
   "language": "python",
   "name": "python3"
  },
  "language_info": {
   "codemirror_mode": {
    "name": "ipython",
    "version": 3
   },
   "file_extension": ".py",
   "mimetype": "text/x-python",
   "name": "python",
   "nbconvert_exporter": "python",
   "pygments_lexer": "ipython3",
   "version": "3.8.13"
  },
  "widgets": {
   "application/vnd.jupyter.widget-state+json": {
    "2513e131318e4b4db2f93f488fda65cc": {
     "model_module": "@jupyter-widgets/controls",
     "model_module_version": "1.5.0",
     "model_name": "HBoxModel",
     "state": {
      "_dom_classes": [],
      "_model_module": "@jupyter-widgets/controls",
      "_model_module_version": "1.5.0",
      "_model_name": "HBoxModel",
      "_view_count": null,
      "_view_module": "@jupyter-widgets/controls",
      "_view_module_version": "1.5.0",
      "_view_name": "HBoxView",
      "box_style": "",
      "children": [
       "IPY_MODEL_b4d71306cb9c4258b82de44b8e53dd34",
       "IPY_MODEL_76650904378c425fa0f6c08fa162d1ff",
       "IPY_MODEL_fe909d2e499f43dcbf8703e343da028a"
      ],
      "layout": "IPY_MODEL_85f8584eb3e04eec98d6b8ce7bba16c9"
     }
    },
    "52b0c0d963784c4fb02b1da79b5268b4": {
     "model_module": "@jupyter-widgets/controls",
     "model_module_version": "1.5.0",
     "model_name": "DescriptionStyleModel",
     "state": {
      "_model_module": "@jupyter-widgets/controls",
      "_model_module_version": "1.5.0",
      "_model_name": "DescriptionStyleModel",
      "_view_count": null,
      "_view_module": "@jupyter-widgets/base",
      "_view_module_version": "1.2.0",
      "_view_name": "StyleView",
      "description_width": ""
     }
    },
    "5e79eceff17348fab458e64c057b9728": {
     "model_module": "@jupyter-widgets/base",
     "model_module_version": "1.2.0",
     "model_name": "LayoutModel",
     "state": {
      "_model_module": "@jupyter-widgets/base",
      "_model_module_version": "1.2.0",
      "_model_name": "LayoutModel",
      "_view_count": null,
      "_view_module": "@jupyter-widgets/base",
      "_view_module_version": "1.2.0",
      "_view_name": "LayoutView",
      "align_content": null,
      "align_items": null,
      "align_self": null,
      "border": null,
      "bottom": null,
      "display": null,
      "flex": null,
      "flex_flow": null,
      "grid_area": null,
      "grid_auto_columns": null,
      "grid_auto_flow": null,
      "grid_auto_rows": null,
      "grid_column": null,
      "grid_gap": null,
      "grid_row": null,
      "grid_template_areas": null,
      "grid_template_columns": null,
      "grid_template_rows": null,
      "height": null,
      "justify_content": null,
      "justify_items": null,
      "left": null,
      "margin": null,
      "max_height": null,
      "max_width": null,
      "min_height": null,
      "min_width": null,
      "object_fit": null,
      "object_position": null,
      "order": null,
      "overflow": null,
      "overflow_x": null,
      "overflow_y": null,
      "padding": null,
      "right": null,
      "top": null,
      "visibility": null,
      "width": null
     }
    },
    "76650904378c425fa0f6c08fa162d1ff": {
     "model_module": "@jupyter-widgets/controls",
     "model_module_version": "1.5.0",
     "model_name": "FloatProgressModel",
     "state": {
      "_dom_classes": [],
      "_model_module": "@jupyter-widgets/controls",
      "_model_module_version": "1.5.0",
      "_model_name": "FloatProgressModel",
      "_view_count": null,
      "_view_module": "@jupyter-widgets/controls",
      "_view_module_version": "1.5.0",
      "_view_name": "ProgressView",
      "bar_style": "success",
      "description": "",
      "description_tooltip": null,
      "layout": "IPY_MODEL_983d6b6c26f743bcac056601c07e6cda",
      "max": 50,
      "min": 0,
      "orientation": "horizontal",
      "style": "IPY_MODEL_969df997ba1442d7a2366f5865ffa7a5",
      "value": 50
     }
    },
    "85f8584eb3e04eec98d6b8ce7bba16c9": {
     "model_module": "@jupyter-widgets/base",
     "model_module_version": "1.2.0",
     "model_name": "LayoutModel",
     "state": {
      "_model_module": "@jupyter-widgets/base",
      "_model_module_version": "1.2.0",
      "_model_name": "LayoutModel",
      "_view_count": null,
      "_view_module": "@jupyter-widgets/base",
      "_view_module_version": "1.2.0",
      "_view_name": "LayoutView",
      "align_content": null,
      "align_items": null,
      "align_self": null,
      "border": null,
      "bottom": null,
      "display": null,
      "flex": null,
      "flex_flow": null,
      "grid_area": null,
      "grid_auto_columns": null,
      "grid_auto_flow": null,
      "grid_auto_rows": null,
      "grid_column": null,
      "grid_gap": null,
      "grid_row": null,
      "grid_template_areas": null,
      "grid_template_columns": null,
      "grid_template_rows": null,
      "height": null,
      "justify_content": null,
      "justify_items": null,
      "left": null,
      "margin": null,
      "max_height": null,
      "max_width": null,
      "min_height": null,
      "min_width": null,
      "object_fit": null,
      "object_position": null,
      "order": null,
      "overflow": null,
      "overflow_x": null,
      "overflow_y": null,
      "padding": null,
      "right": null,
      "top": null,
      "visibility": null,
      "width": null
     }
    },
    "969df997ba1442d7a2366f5865ffa7a5": {
     "model_module": "@jupyter-widgets/controls",
     "model_module_version": "1.5.0",
     "model_name": "ProgressStyleModel",
     "state": {
      "_model_module": "@jupyter-widgets/controls",
      "_model_module_version": "1.5.0",
      "_model_name": "ProgressStyleModel",
      "_view_count": null,
      "_view_module": "@jupyter-widgets/base",
      "_view_module_version": "1.2.0",
      "_view_name": "StyleView",
      "bar_color": null,
      "description_width": ""
     }
    },
    "983d6b6c26f743bcac056601c07e6cda": {
     "model_module": "@jupyter-widgets/base",
     "model_module_version": "1.2.0",
     "model_name": "LayoutModel",
     "state": {
      "_model_module": "@jupyter-widgets/base",
      "_model_module_version": "1.2.0",
      "_model_name": "LayoutModel",
      "_view_count": null,
      "_view_module": "@jupyter-widgets/base",
      "_view_module_version": "1.2.0",
      "_view_name": "LayoutView",
      "align_content": null,
      "align_items": null,
      "align_self": null,
      "border": null,
      "bottom": null,
      "display": null,
      "flex": null,
      "flex_flow": null,
      "grid_area": null,
      "grid_auto_columns": null,
      "grid_auto_flow": null,
      "grid_auto_rows": null,
      "grid_column": null,
      "grid_gap": null,
      "grid_row": null,
      "grid_template_areas": null,
      "grid_template_columns": null,
      "grid_template_rows": null,
      "height": null,
      "justify_content": null,
      "justify_items": null,
      "left": null,
      "margin": null,
      "max_height": null,
      "max_width": null,
      "min_height": null,
      "min_width": null,
      "object_fit": null,
      "object_position": null,
      "order": null,
      "overflow": null,
      "overflow_x": null,
      "overflow_y": null,
      "padding": null,
      "right": null,
      "top": null,
      "visibility": null,
      "width": null
     }
    },
    "a05752f88b7746929dbfd74aae0729f3": {
     "model_module": "@jupyter-widgets/base",
     "model_module_version": "1.2.0",
     "model_name": "LayoutModel",
     "state": {
      "_model_module": "@jupyter-widgets/base",
      "_model_module_version": "1.2.0",
      "_model_name": "LayoutModel",
      "_view_count": null,
      "_view_module": "@jupyter-widgets/base",
      "_view_module_version": "1.2.0",
      "_view_name": "LayoutView",
      "align_content": null,
      "align_items": null,
      "align_self": null,
      "border": null,
      "bottom": null,
      "display": null,
      "flex": null,
      "flex_flow": null,
      "grid_area": null,
      "grid_auto_columns": null,
      "grid_auto_flow": null,
      "grid_auto_rows": null,
      "grid_column": null,
      "grid_gap": null,
      "grid_row": null,
      "grid_template_areas": null,
      "grid_template_columns": null,
      "grid_template_rows": null,
      "height": null,
      "justify_content": null,
      "justify_items": null,
      "left": null,
      "margin": null,
      "max_height": null,
      "max_width": null,
      "min_height": null,
      "min_width": null,
      "object_fit": null,
      "object_position": null,
      "order": null,
      "overflow": null,
      "overflow_x": null,
      "overflow_y": null,
      "padding": null,
      "right": null,
      "top": null,
      "visibility": null,
      "width": null
     }
    },
    "ac2e806c708f4a13ba044aa479205a43": {
     "model_module": "@jupyter-widgets/controls",
     "model_module_version": "1.5.0",
     "model_name": "DescriptionStyleModel",
     "state": {
      "_model_module": "@jupyter-widgets/controls",
      "_model_module_version": "1.5.0",
      "_model_name": "DescriptionStyleModel",
      "_view_count": null,
      "_view_module": "@jupyter-widgets/base",
      "_view_module_version": "1.2.0",
      "_view_name": "StyleView",
      "description_width": ""
     }
    },
    "b4d71306cb9c4258b82de44b8e53dd34": {
     "model_module": "@jupyter-widgets/controls",
     "model_module_version": "1.5.0",
     "model_name": "HTMLModel",
     "state": {
      "_dom_classes": [],
      "_model_module": "@jupyter-widgets/controls",
      "_model_module_version": "1.5.0",
      "_model_name": "HTMLModel",
      "_view_count": null,
      "_view_module": "@jupyter-widgets/controls",
      "_view_module_version": "1.5.0",
      "_view_name": "HTMLView",
      "description": "",
      "description_tooltip": null,
      "layout": "IPY_MODEL_5e79eceff17348fab458e64c057b9728",
      "placeholder": "​",
      "style": "IPY_MODEL_ac2e806c708f4a13ba044aa479205a43",
      "value": "100%"
     }
    },
    "fe909d2e499f43dcbf8703e343da028a": {
     "model_module": "@jupyter-widgets/controls",
     "model_module_version": "1.5.0",
     "model_name": "HTMLModel",
     "state": {
      "_dom_classes": [],
      "_model_module": "@jupyter-widgets/controls",
      "_model_module_version": "1.5.0",
      "_model_name": "HTMLModel",
      "_view_count": null,
      "_view_module": "@jupyter-widgets/controls",
      "_view_module_version": "1.5.0",
      "_view_name": "HTMLView",
      "description": "",
      "description_tooltip": null,
      "layout": "IPY_MODEL_a05752f88b7746929dbfd74aae0729f3",
      "placeholder": "​",
      "style": "IPY_MODEL_52b0c0d963784c4fb02b1da79b5268b4",
      "value": " 50/50 [01:56&lt;00:00,  2.28s/it]"
     }
    }
   }
  }
 },
 "nbformat": 4,
 "nbformat_minor": 4
}